{
 "cells": [
  {
   "cell_type": "code",
   "execution_count": 9,
   "id": "f6e027e7",
   "metadata": {},
   "outputs": [],
   "source": [
    "from ipywidgets import interact"
   ]
  },
  {
   "cell_type": "code",
   "execution_count": 10,
   "id": "7b865c0c",
   "metadata": {},
   "outputs": [],
   "source": [
    "def square(x):\n",
    "    return x * x"
   ]
  },
  {
   "cell_type": "code",
   "execution_count": 11,
   "id": "2142c074",
   "metadata": {},
   "outputs": [
    {
     "data": {
      "text/plain": [
       "100"
      ]
     },
     "metadata": {},
     "output_type": "display_data"
    }
   ],
   "source": [
    "interact(square, x=10);"
   ]
  },
  {
   "cell_type": "code",
   "execution_count": 12,
   "id": "cef6a3ae",
   "metadata": {},
   "outputs": [
    {
     "data": {
      "text/plain": [
       "2500"
      ]
     },
     "metadata": {},
     "output_type": "display_data"
    }
   ],
   "source": [
    "interact(square, x=(0, 100, 10));"
   ]
  },
  {
   "cell_type": "code",
   "execution_count": 13,
   "id": "2e1d313d",
   "metadata": {},
   "outputs": [],
   "source": [
    "def friends(name, number):\n",
    "    return '{} has {} friends!'.format(name, number)"
   ]
  },
  {
   "cell_type": "code",
   "execution_count": 14,
   "id": "6dd65832",
   "metadata": {},
   "outputs": [
    {
     "data": {
      "text/plain": [
       "'Sam has 7 friends!'"
      ]
     },
     "metadata": {},
     "output_type": "display_data"
    }
   ],
   "source": [
    "interact(friends, name='Sam', number=(5, 10));"
   ]
  },
  {
   "cell_type": "code",
   "execution_count": 15,
   "id": "e9d09f36",
   "metadata": {},
   "outputs": [
    {
     "data": {
      "text/plain": [
       "'Sam has 1 friends!'"
      ]
     },
     "metadata": {},
     "output_type": "display_data"
    }
   ],
   "source": [
    "interact(friends, name='Sam', number={'One': 1, 'Five': 5, 'Ten': 10});"
   ]
  },
  {
   "cell_type": "code",
   "execution_count": 19,
   "id": "7f1343a5",
   "metadata": {},
   "outputs": [],
   "source": [
    "def get_resolved_ref(ref):\n",
    "    try:\n",
    "        return resolve(ref)\n",
    "    except 404 and ref == 'master':\n",
    "        repo = GET /repos/monkey-bidness/financial_data\n",
    "        if repo.default_branch != 'master':\n",
    "             # ref is master, which doesn't exist and default branch is not master,\n",
    "             # support folks renaming default branch away from master\n",
    "             return resolve(repo.default_branch)\n",
    "        else:\n",
    "            raise"
   ]
  },
  {
   "cell_type": "code",
   "execution_count": null,
   "id": "d471e714",
   "metadata": {},
   "outputs": [],
   "source": []
  }
 ],
 "metadata": {
  "kernelspec": {
   "display_name": "Python 3",
   "language": "python",
   "name": "python3"
  },
  "language_info": {
   "codemirror_mode": {
    "name": "ipython",
    "version": 3
   },
   "file_extension": ".py",
   "mimetype": "text/x-python",
   "name": "python",
   "nbconvert_exporter": "python",
   "pygments_lexer": "ipython3",
   "version": "3.7.1"
  }
 },
 "nbformat": 4,
 "nbformat_minor": 5
}
