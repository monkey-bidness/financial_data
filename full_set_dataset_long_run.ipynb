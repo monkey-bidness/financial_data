{
 "cells": [
  {
   "cell_type": "code",
   "execution_count": 1,
   "id": "signed-shepherd",
   "metadata": {},
   "outputs": [],
   "source": [
    "import FinanceDatabase as fd\n",
    "import yfinance as yf\n",
    "from get_all_tickers import get_tickers as gt\n",
    "from dateutil.relativedelta import relativedelta\n",
    "import datetime\n",
    "from pandas_datareader import data as pdr\n",
    "import numpy as np\n",
    "import pandas as pd\n",
    "import time\n",
    "import csv\n",
    "import re\n",
    "import schedule\n",
    "import matplotlib.pyplot as plt\n",
    "import plotly.express as px\n",
    "import chart_studio.plotly as py\n",
    "%matplotlib inline"
   ]
  },
  {
   "cell_type": "code",
   "execution_count": 2,
   "id": "vocational-daniel",
   "metadata": {},
   "outputs": [],
   "source": [
    "tickers = gt.get_tickers()\n",
    "today_date = datetime.datetime.now()\n",
    "year_ago = datetime.datetime.now() - relativedelta(years=1)\n",
    "month_ago = datetime.datetime.now() - relativedelta(months=1)\n",
    "week_ago = datetime.datetime.now() - relativedelta(days=8)\n",
    "day_ago = datetime.datetime.now() - relativedelta(days=1)"
   ]
  },
  {
   "cell_type": "code",
   "execution_count": 4,
   "id": "perfect-toilet",
   "metadata": {},
   "outputs": [],
   "source": [
    "#%%timeit\n",
    "master_list = []\n",
    "alarm = datetime.time(9,47,0)\n",
    "a = 0\n",
    "b = 150\n",
    "while a < 150:#len(tickers):# datetime.datetime.now().time():\n",
    "    list_one = []\n",
    "    for i in tickers[a:b]:\n",
    "        formatted_tickers = yf.Ticker(i)\n",
    "        for l in range(0,1):\n",
    "            time.sleep(.3)\n",
    "            try:\n",
    "                listed_information = formatted_tickers.info\n",
    "                list_one.append(listed_information)\n",
    "            except (KeyError,ValueError):\n",
    "                print(f'{formatted_tickers}')\n",
    "            #if you figure this out and can get more info then we can start to generate stock picks \n",
    "            #based on advice we've seen from places like Barons\n",
    "    #full_data_view.to_excel(r'C:\\Users\\Abel\\Documents\\info_test{}.xlsx'.format(b),index=False)\n",
    "    list_one_df = pd.DataFrame(list_one)\n",
    "    full_data_view = list_one_df[['symbol','sector','fullTimeEmployees','city','state','country','industry',\n",
    "    'previousClose','regularMarketDayLow','regularMarketDayHigh','regularMarketOpen','fiftyDayAverage','twoHundredDayAverage',\n",
    "    'fiftyTwoWeekHigh','fiftyTwoWeekLow','trailingAnnualDividendYield','payoutRatio','averageVolume',\n",
    "    'averageDailyVolume10Day','trailingAnnualDividendRate','dividendRate','exDividendDate','beta','priceHint',\n",
    "    'trailingPE','priceToSalesTrailing12Months','regularMarketVolume','marketCap','ask','askSize','forwardPE',\n",
    "    'fiveYearAvgDividendYield','bid','dividendYield','bidSize','enterpriseToRevenue','profitMargins','enterpriseToEbitda',\n",
    "    'forwardEps','sharesOutstanding','floatShares','bookValue','sharesPercentSharesOut','lastFiscalYearEnd',\n",
    "    'heldPercentInstitutions','netIncomeToCommon','trailingEps','enterpriseValue','priceToBook',\n",
    "    'heldPercentInsiders','nextFiscalYearEnd','mostRecentQuarter','shortRatio','sharesShortPreviousMonthDate',\n",
    "    'sharesShort','shortPercentOfFloat','sharesShortPriorMonth','dateShortInterest','lastSplitDate',\n",
    "    'lastSplitFactor','earningsQuarterlyGrowth','pegRatio','exchange','longName',\n",
    "    'isEsgPopulated','currency']]\n",
    "    master_list.append(full_data_view)\n",
    "    a+=150\n",
    "    b+=150"
   ]
  },
  {
   "cell_type": "code",
   "execution_count": 3,
   "id": "italic-sunglasses",
   "metadata": {},
   "outputs": [
    {
     "ename": "NameError",
     "evalue": "name 'master_list' is not defined",
     "output_type": "error",
     "traceback": [
      "\u001b[1;31m---------------------------------------------------------------------------\u001b[0m",
      "\u001b[1;31mNameError\u001b[0m                                 Traceback (most recent call last)",
      "\u001b[1;32m<ipython-input-3-c7e37a01a922>\u001b[0m in \u001b[0;36m<module>\u001b[1;34m\u001b[0m\n\u001b[1;32m----> 1\u001b[1;33m \u001b[0mmaster_list_df\u001b[0m \u001b[1;33m=\u001b[0m \u001b[0mpd\u001b[0m\u001b[1;33m.\u001b[0m\u001b[0mconcat\u001b[0m\u001b[1;33m(\u001b[0m\u001b[0mmaster_list\u001b[0m\u001b[1;33m)\u001b[0m\u001b[1;33m\u001b[0m\u001b[1;33m\u001b[0m\u001b[0m\n\u001b[0m",
      "\u001b[1;31mNameError\u001b[0m: name 'master_list' is not defined"
     ]
    }
   ],
   "source": [
    "master_list_df = pd.concat(master_list)"
   ]
  },
  {
   "cell_type": "code",
   "execution_count": 75,
   "id": "spiritual-monitoring",
   "metadata": {},
   "outputs": [
    {
     "data": {
      "text/html": [
       "<div>\n",
       "<style scoped>\n",
       "    .dataframe tbody tr th:only-of-type {\n",
       "        vertical-align: middle;\n",
       "    }\n",
       "\n",
       "    .dataframe tbody tr th {\n",
       "        vertical-align: top;\n",
       "    }\n",
       "\n",
       "    .dataframe thead th {\n",
       "        text-align: right;\n",
       "    }\n",
       "</style>\n",
       "<table border=\"1\" class=\"dataframe\">\n",
       "  <thead>\n",
       "    <tr style=\"text-align: right;\">\n",
       "      <th></th>\n",
       "      <th>symbol</th>\n",
       "      <th>sector</th>\n",
       "      <th>fullTimeEmployees</th>\n",
       "      <th>city</th>\n",
       "      <th>state</th>\n",
       "      <th>country</th>\n",
       "      <th>industry</th>\n",
       "      <th>previousClose</th>\n",
       "      <th>regularMarketDayLow</th>\n",
       "      <th>regularMarketDayHigh</th>\n",
       "      <th>...</th>\n",
       "      <th>earningsQuarterlyGrowth</th>\n",
       "      <th>pegRatio</th>\n",
       "      <th>exchange</th>\n",
       "      <th>longName</th>\n",
       "      <th>isEsgPopulated</th>\n",
       "      <th>currency</th>\n",
       "      <th>fiftyTwoHighToLowPercentDiff</th>\n",
       "      <th>PrevCloseTo52LowPercentDiff</th>\n",
       "      <th>PrevCloseTo50DayAvgPercentDiff</th>\n",
       "      <th>PrevCloseTo200DayAvgPercentDiff</th>\n",
       "    </tr>\n",
       "  </thead>\n",
       "  <tbody>\n",
       "    <tr>\n",
       "      <th>0</th>\n",
       "      <td>A</td>\n",
       "      <td>Healthcare</td>\n",
       "      <td>16400.0</td>\n",
       "      <td>Santa Clara</td>\n",
       "      <td>CA</td>\n",
       "      <td>United States</td>\n",
       "      <td>Diagnostics &amp; Research</td>\n",
       "      <td>133.50</td>\n",
       "      <td>131.815</td>\n",
       "      <td>133.550</td>\n",
       "      <td>...</td>\n",
       "      <td>0.462</td>\n",
       "      <td>2.91</td>\n",
       "      <td>NYQ</td>\n",
       "      <td>Agilent Technologies, Inc.</td>\n",
       "      <td>True</td>\n",
       "      <td>USD</td>\n",
       "      <td>0.882887</td>\n",
       "      <td>0.835052</td>\n",
       "      <td>0.085270</td>\n",
       "      <td>0.152705</td>\n",
       "    </tr>\n",
       "    <tr>\n",
       "      <th>1</th>\n",
       "      <td>AA</td>\n",
       "      <td>Basic Materials</td>\n",
       "      <td>12900.0</td>\n",
       "      <td>Pittsburgh</td>\n",
       "      <td>PA</td>\n",
       "      <td>United States</td>\n",
       "      <td>Aluminum</td>\n",
       "      <td>36.03</td>\n",
       "      <td>32.381</td>\n",
       "      <td>35.950</td>\n",
       "      <td>...</td>\n",
       "      <td>1.188</td>\n",
       "      <td>0.05</td>\n",
       "      <td>NYQ</td>\n",
       "      <td>Alcoa Corporation</td>\n",
       "      <td>True</td>\n",
       "      <td>USD</td>\n",
       "      <td>4.634796</td>\n",
       "      <td>4.647335</td>\n",
       "      <td>0.258111</td>\n",
       "      <td>0.738589</td>\n",
       "    </tr>\n",
       "    <tr>\n",
       "      <th>2</th>\n",
       "      <td>AAC</td>\n",
       "      <td>Financial Services</td>\n",
       "      <td>NaN</td>\n",
       "      <td>New York</td>\n",
       "      <td>NY</td>\n",
       "      <td>United States</td>\n",
       "      <td>Shell Companies</td>\n",
       "      <td>9.84</td>\n",
       "      <td>9.740</td>\n",
       "      <td>10.000</td>\n",
       "      <td>...</td>\n",
       "      <td>NaN</td>\n",
       "      <td>NaN</td>\n",
       "      <td>NYQ</td>\n",
       "      <td>Ares Acquisition Corporation</td>\n",
       "      <td>False</td>\n",
       "      <td>USD</td>\n",
       "      <td>0.052632</td>\n",
       "      <td>0.035789</td>\n",
       "      <td>-0.001184</td>\n",
       "      <td>-0.001184</td>\n",
       "    </tr>\n",
       "    <tr>\n",
       "      <th>3</th>\n",
       "      <td>AACG</td>\n",
       "      <td>Consumer Defensive</td>\n",
       "      <td>580.0</td>\n",
       "      <td>Beijing</td>\n",
       "      <td>NaN</td>\n",
       "      <td>China</td>\n",
       "      <td>Education &amp; Training Services</td>\n",
       "      <td>2.99</td>\n",
       "      <td>2.770</td>\n",
       "      <td>2.985</td>\n",
       "      <td>...</td>\n",
       "      <td>NaN</td>\n",
       "      <td>NaN</td>\n",
       "      <td>NGM</td>\n",
       "      <td>ATA Creativity Global</td>\n",
       "      <td>False</td>\n",
       "      <td>USD</td>\n",
       "      <td>31.377049</td>\n",
       "      <td>3.901639</td>\n",
       "      <td>-0.370687</td>\n",
       "      <td>0.261446</td>\n",
       "    </tr>\n",
       "    <tr>\n",
       "      <th>4</th>\n",
       "      <td>AACQ</td>\n",
       "      <td>NaN</td>\n",
       "      <td>NaN</td>\n",
       "      <td>NaN</td>\n",
       "      <td>NaN</td>\n",
       "      <td>NaN</td>\n",
       "      <td>NaN</td>\n",
       "      <td>10.03</td>\n",
       "      <td>9.920</td>\n",
       "      <td>10.020</td>\n",
       "      <td>...</td>\n",
       "      <td>NaN</td>\n",
       "      <td>NaN</td>\n",
       "      <td>NCM</td>\n",
       "      <td>Artius Acquisition Inc.</td>\n",
       "      <td>False</td>\n",
       "      <td>USD</td>\n",
       "      <td>0.463185</td>\n",
       "      <td>0.047520</td>\n",
       "      <td>-0.088734</td>\n",
       "      <td>-0.037566</td>\n",
       "    </tr>\n",
       "    <tr>\n",
       "      <th>...</th>\n",
       "      <td>...</td>\n",
       "      <td>...</td>\n",
       "      <td>...</td>\n",
       "      <td>...</td>\n",
       "      <td>...</td>\n",
       "      <td>...</td>\n",
       "      <td>...</td>\n",
       "      <td>...</td>\n",
       "      <td>...</td>\n",
       "      <td>...</td>\n",
       "      <td>...</td>\n",
       "      <td>...</td>\n",
       "      <td>...</td>\n",
       "      <td>...</td>\n",
       "      <td>...</td>\n",
       "      <td>...</td>\n",
       "      <td>...</td>\n",
       "      <td>...</td>\n",
       "      <td>...</td>\n",
       "      <td>...</td>\n",
       "      <td>...</td>\n",
       "    </tr>\n",
       "    <tr>\n",
       "      <th>145</th>\n",
       "      <td>BUR</td>\n",
       "      <td>Financial Services</td>\n",
       "      <td>133.0</td>\n",
       "      <td>Saint Peter Port</td>\n",
       "      <td>NaN</td>\n",
       "      <td>Guernsey</td>\n",
       "      <td>Asset Management</td>\n",
       "      <td>10.72</td>\n",
       "      <td>10.295</td>\n",
       "      <td>10.800</td>\n",
       "      <td>...</td>\n",
       "      <td>NaN</td>\n",
       "      <td>NaN</td>\n",
       "      <td>NYQ</td>\n",
       "      <td>Burford Capital Limited</td>\n",
       "      <td>False</td>\n",
       "      <td>USD</td>\n",
       "      <td>0.387500</td>\n",
       "      <td>0.340000</td>\n",
       "      <td>0.234549</td>\n",
       "      <td>0.164718</td>\n",
       "    </tr>\n",
       "    <tr>\n",
       "      <th>146</th>\n",
       "      <td>BURL</td>\n",
       "      <td>Consumer Cyclical</td>\n",
       "      <td>14533.0</td>\n",
       "      <td>Burlington</td>\n",
       "      <td>NJ</td>\n",
       "      <td>United States</td>\n",
       "      <td>Apparel Retail</td>\n",
       "      <td>320.88</td>\n",
       "      <td>312.760</td>\n",
       "      <td>320.950</td>\n",
       "      <td>...</td>\n",
       "      <td>-0.244</td>\n",
       "      <td>6.39</td>\n",
       "      <td>NYQ</td>\n",
       "      <td>Burlington Stores, Inc.</td>\n",
       "      <td>False</td>\n",
       "      <td>USD</td>\n",
       "      <td>1.076114</td>\n",
       "      <td>1.069793</td>\n",
       "      <td>0.120794</td>\n",
       "      <td>0.314111</td>\n",
       "    </tr>\n",
       "    <tr>\n",
       "      <th>147</th>\n",
       "      <td>BUSE</td>\n",
       "      <td>Financial Services</td>\n",
       "      <td>1302.0</td>\n",
       "      <td>Champaign</td>\n",
       "      <td>IL</td>\n",
       "      <td>United States</td>\n",
       "      <td>Banks—Regional</td>\n",
       "      <td>25.44</td>\n",
       "      <td>24.570</td>\n",
       "      <td>25.360</td>\n",
       "      <td>...</td>\n",
       "      <td>-0.008</td>\n",
       "      <td>2.11</td>\n",
       "      <td>NMS</td>\n",
       "      <td>First Busey Corporation</td>\n",
       "      <td>False</td>\n",
       "      <td>USD</td>\n",
       "      <td>0.886316</td>\n",
       "      <td>0.785263</td>\n",
       "      <td>0.031453</td>\n",
       "      <td>0.199572</td>\n",
       "    </tr>\n",
       "    <tr>\n",
       "      <th>148</th>\n",
       "      <td>BV</td>\n",
       "      <td>Industrials</td>\n",
       "      <td>19000.0</td>\n",
       "      <td>Blue Bell</td>\n",
       "      <td>PA</td>\n",
       "      <td>United States</td>\n",
       "      <td>Specialty Business Services</td>\n",
       "      <td>18.30</td>\n",
       "      <td>17.900</td>\n",
       "      <td>18.510</td>\n",
       "      <td>...</td>\n",
       "      <td>NaN</td>\n",
       "      <td>0.69</td>\n",
       "      <td>NYQ</td>\n",
       "      <td>BrightView Holdings, Inc.</td>\n",
       "      <td>False</td>\n",
       "      <td>USD</td>\n",
       "      <td>0.992465</td>\n",
       "      <td>0.969860</td>\n",
       "      <td>0.099319</td>\n",
       "      <td>0.249671</td>\n",
       "    </tr>\n",
       "    <tr>\n",
       "      <th>149</th>\n",
       "      <td>BVH</td>\n",
       "      <td>Consumer Cyclical</td>\n",
       "      <td>4637.0</td>\n",
       "      <td>Boca Raton</td>\n",
       "      <td>FL</td>\n",
       "      <td>United States</td>\n",
       "      <td>Resorts &amp; Casinos</td>\n",
       "      <td>19.45</td>\n",
       "      <td>19.170</td>\n",
       "      <td>19.370</td>\n",
       "      <td>...</td>\n",
       "      <td>0.633</td>\n",
       "      <td>2.53</td>\n",
       "      <td>NYQ</td>\n",
       "      <td>Bluegreen Vacations Holding Corporation</td>\n",
       "      <td>False</td>\n",
       "      <td>USD</td>\n",
       "      <td>1.966176</td>\n",
       "      <td>1.860294</td>\n",
       "      <td>0.107192</td>\n",
       "      <td>0.448985</td>\n",
       "    </tr>\n",
       "  </tbody>\n",
       "</table>\n",
       "<p>1050 rows × 70 columns</p>\n",
       "</div>"
      ],
      "text/plain": [
       "    symbol              sector  fullTimeEmployees              city state  \\\n",
       "0        A          Healthcare            16400.0       Santa Clara    CA   \n",
       "1       AA     Basic Materials            12900.0        Pittsburgh    PA   \n",
       "2      AAC  Financial Services                NaN          New York    NY   \n",
       "3     AACG  Consumer Defensive              580.0           Beijing   NaN   \n",
       "4     AACQ                 NaN                NaN               NaN   NaN   \n",
       "..     ...                 ...                ...               ...   ...   \n",
       "145    BUR  Financial Services              133.0  Saint Peter Port   NaN   \n",
       "146   BURL   Consumer Cyclical            14533.0        Burlington    NJ   \n",
       "147   BUSE  Financial Services             1302.0         Champaign    IL   \n",
       "148     BV         Industrials            19000.0         Blue Bell    PA   \n",
       "149    BVH   Consumer Cyclical             4637.0        Boca Raton    FL   \n",
       "\n",
       "           country                       industry  previousClose  \\\n",
       "0    United States         Diagnostics & Research         133.50   \n",
       "1    United States                       Aluminum          36.03   \n",
       "2    United States                Shell Companies           9.84   \n",
       "3            China  Education & Training Services           2.99   \n",
       "4              NaN                            NaN          10.03   \n",
       "..             ...                            ...            ...   \n",
       "145       Guernsey               Asset Management          10.72   \n",
       "146  United States                 Apparel Retail         320.88   \n",
       "147  United States                 Banks—Regional          25.44   \n",
       "148  United States    Specialty Business Services          18.30   \n",
       "149  United States              Resorts & Casinos          19.45   \n",
       "\n",
       "     regularMarketDayLow  regularMarketDayHigh  ...  earningsQuarterlyGrowth  \\\n",
       "0                131.815               133.550  ...                    0.462   \n",
       "1                 32.381                35.950  ...                    1.188   \n",
       "2                  9.740                10.000  ...                      NaN   \n",
       "3                  2.770                 2.985  ...                      NaN   \n",
       "4                  9.920                10.020  ...                      NaN   \n",
       "..                   ...                   ...  ...                      ...   \n",
       "145               10.295                10.800  ...                      NaN   \n",
       "146              312.760               320.950  ...                   -0.244   \n",
       "147               24.570                25.360  ...                   -0.008   \n",
       "148               17.900                18.510  ...                      NaN   \n",
       "149               19.170                19.370  ...                    0.633   \n",
       "\n",
       "     pegRatio  exchange                                 longName  \\\n",
       "0        2.91       NYQ               Agilent Technologies, Inc.   \n",
       "1        0.05       NYQ                        Alcoa Corporation   \n",
       "2         NaN       NYQ             Ares Acquisition Corporation   \n",
       "3         NaN       NGM                    ATA Creativity Global   \n",
       "4         NaN       NCM                  Artius Acquisition Inc.   \n",
       "..        ...       ...                                      ...   \n",
       "145       NaN       NYQ                  Burford Capital Limited   \n",
       "146      6.39       NYQ                  Burlington Stores, Inc.   \n",
       "147      2.11       NMS                  First Busey Corporation   \n",
       "148      0.69       NYQ                BrightView Holdings, Inc.   \n",
       "149      2.53       NYQ  Bluegreen Vacations Holding Corporation   \n",
       "\n",
       "     isEsgPopulated  currency  fiftyTwoHighToLowPercentDiff  \\\n",
       "0              True       USD                      0.882887   \n",
       "1              True       USD                      4.634796   \n",
       "2             False       USD                      0.052632   \n",
       "3             False       USD                     31.377049   \n",
       "4             False       USD                      0.463185   \n",
       "..              ...       ...                           ...   \n",
       "145           False       USD                      0.387500   \n",
       "146           False       USD                      1.076114   \n",
       "147           False       USD                      0.886316   \n",
       "148           False       USD                      0.992465   \n",
       "149           False       USD                      1.966176   \n",
       "\n",
       "     PrevCloseTo52LowPercentDiff  PrevCloseTo50DayAvgPercentDiff  \\\n",
       "0                       0.835052                        0.085270   \n",
       "1                       4.647335                        0.258111   \n",
       "2                       0.035789                       -0.001184   \n",
       "3                       3.901639                       -0.370687   \n",
       "4                       0.047520                       -0.088734   \n",
       "..                           ...                             ...   \n",
       "145                     0.340000                        0.234549   \n",
       "146                     1.069793                        0.120794   \n",
       "147                     0.785263                        0.031453   \n",
       "148                     0.969860                        0.099319   \n",
       "149                     1.860294                        0.107192   \n",
       "\n",
       "     PrevCloseTo200DayAvgPercentDiff  \n",
       "0                           0.152705  \n",
       "1                           0.738589  \n",
       "2                          -0.001184  \n",
       "3                           0.261446  \n",
       "4                          -0.037566  \n",
       "..                               ...  \n",
       "145                         0.164718  \n",
       "146                         0.314111  \n",
       "147                         0.199572  \n",
       "148                         0.249671  \n",
       "149                         0.448985  \n",
       "\n",
       "[1050 rows x 70 columns]"
      ]
     },
     "metadata": {},
     "output_type": "display_data"
    }
   ],
   "source": [
    "master_list_df.to_excel(r'C:\\Users\\Abel\\Documents\\large_financial_data_file.xlsx')\n",
    "display(master_list_df)"
   ]
  },
  {
   "cell_type": "code",
   "execution_count": 68,
   "id": "metropolitan-shaft",
   "metadata": {},
   "outputs": [],
   "source": [
    "master_list_df['fiftyTwoHighToLowPercentDiff'] = (master_list_df['fiftyTwoWeekHigh'] - master_list_df['fiftyTwoWeekLow'])/master_list_df['fiftyTwoWeekLow']\n",
    "master_list_df['PrevCloseTo52LowPercentDiff'] = (master_list_df['previousClose']/master_list_df['fiftyTwoWeekLow']) - 1\n",
    "master_list_df['PrevCloseTo50DayAvgPercentDiff'] = (master_list_df['previousClose']/master_list_df['fiftyDayAverage'])-1\n",
    "master_list_df['PrevCloseTo200DayAvgPercentDiff'] = (master_list_df['previousClose']/master_list_df['twoHundredDayAverage']) - 1"
   ]
  },
  {
   "cell_type": "code",
   "execution_count": 69,
   "id": "wound-theta",
   "metadata": {},
   "outputs": [
    {
     "data": {
      "text/html": [
       "<div>\n",
       "<style scoped>\n",
       "    .dataframe tbody tr th:only-of-type {\n",
       "        vertical-align: middle;\n",
       "    }\n",
       "\n",
       "    .dataframe tbody tr th {\n",
       "        vertical-align: top;\n",
       "    }\n",
       "\n",
       "    .dataframe thead th {\n",
       "        text-align: right;\n",
       "    }\n",
       "</style>\n",
       "<table border=\"1\" class=\"dataframe\">\n",
       "  <thead>\n",
       "    <tr style=\"text-align: right;\">\n",
       "      <th></th>\n",
       "      <th>fiftyTwoHighToLowPercentDiff</th>\n",
       "      <th>PrevCloseTo52LowPercentDiff</th>\n",
       "      <th>PrevCloseTo50DayAvgPercentDiff</th>\n",
       "      <th>PrevCloseTo200DayAvgPercentDiff</th>\n",
       "    </tr>\n",
       "  </thead>\n",
       "  <tbody>\n",
       "    <tr>\n",
       "      <th>0</th>\n",
       "      <td>0.882887</td>\n",
       "      <td>0.835052</td>\n",
       "      <td>0.085270</td>\n",
       "      <td>0.152705</td>\n",
       "    </tr>\n",
       "    <tr>\n",
       "      <th>1</th>\n",
       "      <td>4.634796</td>\n",
       "      <td>4.647335</td>\n",
       "      <td>0.258111</td>\n",
       "      <td>0.738589</td>\n",
       "    </tr>\n",
       "    <tr>\n",
       "      <th>2</th>\n",
       "      <td>0.052632</td>\n",
       "      <td>0.035789</td>\n",
       "      <td>-0.001184</td>\n",
       "      <td>-0.001184</td>\n",
       "    </tr>\n",
       "    <tr>\n",
       "      <th>3</th>\n",
       "      <td>31.377049</td>\n",
       "      <td>3.901639</td>\n",
       "      <td>-0.370687</td>\n",
       "      <td>0.261446</td>\n",
       "    </tr>\n",
       "    <tr>\n",
       "      <th>4</th>\n",
       "      <td>0.463185</td>\n",
       "      <td>0.047520</td>\n",
       "      <td>-0.088734</td>\n",
       "      <td>-0.037566</td>\n",
       "    </tr>\n",
       "    <tr>\n",
       "      <th>...</th>\n",
       "      <td>...</td>\n",
       "      <td>...</td>\n",
       "      <td>...</td>\n",
       "      <td>...</td>\n",
       "    </tr>\n",
       "    <tr>\n",
       "      <th>145</th>\n",
       "      <td>0.387500</td>\n",
       "      <td>0.340000</td>\n",
       "      <td>0.234549</td>\n",
       "      <td>0.164718</td>\n",
       "    </tr>\n",
       "    <tr>\n",
       "      <th>146</th>\n",
       "      <td>1.076114</td>\n",
       "      <td>1.069793</td>\n",
       "      <td>0.120794</td>\n",
       "      <td>0.314111</td>\n",
       "    </tr>\n",
       "    <tr>\n",
       "      <th>147</th>\n",
       "      <td>0.886316</td>\n",
       "      <td>0.785263</td>\n",
       "      <td>0.031453</td>\n",
       "      <td>0.199572</td>\n",
       "    </tr>\n",
       "    <tr>\n",
       "      <th>148</th>\n",
       "      <td>0.992465</td>\n",
       "      <td>0.969860</td>\n",
       "      <td>0.099319</td>\n",
       "      <td>0.249671</td>\n",
       "    </tr>\n",
       "    <tr>\n",
       "      <th>149</th>\n",
       "      <td>1.966176</td>\n",
       "      <td>1.860294</td>\n",
       "      <td>0.107192</td>\n",
       "      <td>0.448985</td>\n",
       "    </tr>\n",
       "  </tbody>\n",
       "</table>\n",
       "<p>1050 rows × 4 columns</p>\n",
       "</div>"
      ],
      "text/plain": [
       "     fiftyTwoHighToLowPercentDiff  PrevCloseTo52LowPercentDiff  \\\n",
       "0                        0.882887                     0.835052   \n",
       "1                        4.634796                     4.647335   \n",
       "2                        0.052632                     0.035789   \n",
       "3                       31.377049                     3.901639   \n",
       "4                        0.463185                     0.047520   \n",
       "..                            ...                          ...   \n",
       "145                      0.387500                     0.340000   \n",
       "146                      1.076114                     1.069793   \n",
       "147                      0.886316                     0.785263   \n",
       "148                      0.992465                     0.969860   \n",
       "149                      1.966176                     1.860294   \n",
       "\n",
       "     PrevCloseTo50DayAvgPercentDiff  PrevCloseTo200DayAvgPercentDiff  \n",
       "0                          0.085270                         0.152705  \n",
       "1                          0.258111                         0.738589  \n",
       "2                         -0.001184                        -0.001184  \n",
       "3                         -0.370687                         0.261446  \n",
       "4                         -0.088734                        -0.037566  \n",
       "..                              ...                              ...  \n",
       "145                        0.234549                         0.164718  \n",
       "146                        0.120794                         0.314111  \n",
       "147                        0.031453                         0.199572  \n",
       "148                        0.099319                         0.249671  \n",
       "149                        0.107192                         0.448985  \n",
       "\n",
       "[1050 rows x 4 columns]"
      ]
     },
     "metadata": {},
     "output_type": "display_data"
    }
   ],
   "source": [
    "display(master_list_df[['fiftyTwoHighToLowPercentDiff','PrevCloseTo52LowPercentDiff','PrevCloseTo50DayAvgPercentDiff','PrevCloseTo200DayAvgPercentDiff']])"
   ]
  },
  {
   "cell_type": "code",
   "execution_count": 70,
   "id": "supposed-president",
   "metadata": {},
   "outputs": [],
   "source": [
    "top_50 = master_list_df[['symbol','previousClose','regularMarketDayLow','regularMarketDayHigh','regularMarketOpen','fiftyDayAverage','twoHundredDayAverage','fiftyTwoWeekHigh','fiftyTwoWeekLow','fiftyTwoHighToLowPercentDiff','PrevCloseTo52LowPercentDiff','PrevCloseTo50DayAvgPercentDiff','PrevCloseTo200DayAvgPercentDiff']].sort_values(['fiftyTwoHighToLowPercentDiff','PrevCloseTo200DayAvgPercentDiff'],ascending=False).nlargest(50,columns=['fiftyTwoHighToLowPercentDiff'])"
   ]
  },
  {
   "cell_type": "code",
   "execution_count": 99,
   "id": "coral-party",
   "metadata": {},
   "outputs": [],
   "source": [
    "fig = px.scatter(top_50,x='PrevCloseTo200DayAvgPercentDiff',y='PrevCloseTo50DayAvgPercentDiff',marginal_y='violin',marginal_x='box',trendline='ols',template='simple_white')"
   ]
  },
  {
   "cell_type": "code",
   "execution_count": 101,
   "id": "satellite-liverpool",
   "metadata": {},
   "outputs": [],
   "source": [
    "fig_2 = px.line(top_50,x='PrevCloseTo200DayAvgPercentDiff',y='PrevCloseTo50DayAvgPercentDiff')"
   ]
  },
  {
   "cell_type": "code",
   "execution_count": 103,
   "id": "distributed-snake",
   "metadata": {},
   "outputs": [
    {
     "data": {
      "application/vnd.plotly.v1+json": {
       "config": {
        "plotlyServerURL": "https://plot.ly"
       },
       "data": [
        {
         "hovertemplate": "PrevCloseTo200DayAvgPercentDiff=%{x}<br>PrevCloseTo50DayAvgPercentDiff=%{y}<extra></extra>",
         "legendgroup": "",
         "marker": {
          "color": "#1F77B4",
          "symbol": "circle"
         },
         "mode": "markers",
         "name": "",
         "orientation": "v",
         "showlegend": false,
         "type": "scatter",
         "x": [
          0.7003116224753461,
          0.012235961168381548,
          0.04339098733489011,
          0.13577586206896552,
          1.6883764509104422,
          0.08342561297039275,
          0.1738355267057332,
          -0.27781947029564213,
          0.945482088957633,
          0.1268335459849086,
          0.2614457214250272,
          1.3234447631367718,
          0.30151690572642975,
          -0.08560084616605834,
          0.5189911302637213,
          -0.050426705771398184,
          -0.11001038832701893,
          0.7202593414392686,
          -0.9342503785966684,
          0.17815384935741285,
          -0.18889158769003145,
          0.2549973931168139,
          0.005173320036784057,
          0.28369903944045394,
          0.062355392217884775,
          0.22307783311525498,
          0.7190324751900994,
          0.002465252809155327,
          0.044251638565107054,
          -0.05971040665687566,
          -0.15060556487469923,
          -0.190527167866139,
          -0.2333774704776238,
          0.3462257100149475,
          0.5499577149062642,
          0.007367437911090846,
          0.06544044988108699,
          0.03877613784262568,
          0.7864383916484339,
          0.4831936339949512,
          0.30001031341515305,
          -0.06399694012090595,
          -0.19892413265007802,
          0.1079333568013765,
          -0.4056240110507878,
          -0.013563215656260397,
          -0.14271487986693687,
          -0.713256357881268,
          -0.2473784578927959,
          -0.19057255245344873
         ],
         "xaxis": "x",
         "y": [
          -0.020755283244072498,
          0.015547872164204168,
          0.01902244368041628,
          -0.4436482444383696,
          0.11980467891721691,
          -0.25844045948853034,
          0.06930956085826745,
          -0.21845035959234116,
          0.2080807914330094,
          -0.12253060613245803,
          -0.3706868899977521,
          0.11310460359872443,
          -0.10582090059329452,
          -0.5781043223381904,
          0.12437825552546844,
          -0.4143668220202208,
          -0.2183642826138401,
          -0.2515576466326437,
          -0.9342503785966684,
          -0.3056370804009284,
          -0.32397109777610966,
          -0.41766480327449795,
          -0.28976186626603806,
          -0.25354212717033653,
          -0.12769971982438155,
          -0.3360160698598016,
          -0.19952965160581349,
          -0.48122456123202073,
          -0.1934576670425936,
          -0.19103974545709157,
          -0.28550945238241965,
          -0.27773905839244906,
          -0.11174615439686386,
          -0.230203872571336,
          -0.03371420583309026,
          -0.23231686640044147,
          -0.42148825993600114,
          -0.3807577927963791,
          0.002232197279966819,
          -0.1501863386634803,
          -0.14878251157099653,
          -0.26352574033331044,
          -0.3131686054889896,
          -0.11839706955185914,
          -0.26201023852324956,
          -0.34522106599294344,
          -0.34017831948411215,
          -0.2305721627564149,
          -0.22468766758053027,
          -0.1350947842945729
         ],
         "yaxis": "y"
        },
        {
         "alignmentgroup": "True",
         "hovertemplate": "PrevCloseTo200DayAvgPercentDiff=%{x}<extra></extra>",
         "legendgroup": "",
         "marker": {
          "color": "#1F77B4",
          "symbol": "circle"
         },
         "name": "",
         "notched": true,
         "offsetgroup": "",
         "showlegend": false,
         "type": "box",
         "x": [
          0.7003116224753461,
          0.012235961168381548,
          0.04339098733489011,
          0.13577586206896552,
          1.6883764509104422,
          0.08342561297039275,
          0.1738355267057332,
          -0.27781947029564213,
          0.945482088957633,
          0.1268335459849086,
          0.2614457214250272,
          1.3234447631367718,
          0.30151690572642975,
          -0.08560084616605834,
          0.5189911302637213,
          -0.050426705771398184,
          -0.11001038832701893,
          0.7202593414392686,
          -0.9342503785966684,
          0.17815384935741285,
          -0.18889158769003145,
          0.2549973931168139,
          0.005173320036784057,
          0.28369903944045394,
          0.062355392217884775,
          0.22307783311525498,
          0.7190324751900994,
          0.002465252809155327,
          0.044251638565107054,
          -0.05971040665687566,
          -0.15060556487469923,
          -0.190527167866139,
          -0.2333774704776238,
          0.3462257100149475,
          0.5499577149062642,
          0.007367437911090846,
          0.06544044988108699,
          0.03877613784262568,
          0.7864383916484339,
          0.4831936339949512,
          0.30001031341515305,
          -0.06399694012090595,
          -0.19892413265007802,
          0.1079333568013765,
          -0.4056240110507878,
          -0.013563215656260397,
          -0.14271487986693687,
          -0.713256357881268,
          -0.2473784578927959,
          -0.19057255245344873
         ],
         "xaxis": "x3",
         "yaxis": "y3"
        },
        {
         "alignmentgroup": "True",
         "hovertemplate": "PrevCloseTo50DayAvgPercentDiff=%{y}<extra></extra>",
         "legendgroup": "",
         "marker": {
          "color": "#1F77B4",
          "symbol": "circle"
         },
         "name": "",
         "offsetgroup": "",
         "scalegroup": "y",
         "showlegend": false,
         "type": "violin",
         "xaxis": "x2",
         "y": [
          -0.020755283244072498,
          0.015547872164204168,
          0.01902244368041628,
          -0.4436482444383696,
          0.11980467891721691,
          -0.25844045948853034,
          0.06930956085826745,
          -0.21845035959234116,
          0.2080807914330094,
          -0.12253060613245803,
          -0.3706868899977521,
          0.11310460359872443,
          -0.10582090059329452,
          -0.5781043223381904,
          0.12437825552546844,
          -0.4143668220202208,
          -0.2183642826138401,
          -0.2515576466326437,
          -0.9342503785966684,
          -0.3056370804009284,
          -0.32397109777610966,
          -0.41766480327449795,
          -0.28976186626603806,
          -0.25354212717033653,
          -0.12769971982438155,
          -0.3360160698598016,
          -0.19952965160581349,
          -0.48122456123202073,
          -0.1934576670425936,
          -0.19103974545709157,
          -0.28550945238241965,
          -0.27773905839244906,
          -0.11174615439686386,
          -0.230203872571336,
          -0.03371420583309026,
          -0.23231686640044147,
          -0.42148825993600114,
          -0.3807577927963791,
          0.002232197279966819,
          -0.1501863386634803,
          -0.14878251157099653,
          -0.26352574033331044,
          -0.3131686054889896,
          -0.11839706955185914,
          -0.26201023852324956,
          -0.34522106599294344,
          -0.34017831948411215,
          -0.2305721627564149,
          -0.22468766758053027,
          -0.1350947842945729
         ],
         "yaxis": "y2"
        },
        {
         "hovertemplate": "<b>OLS trendline</b><br>PrevCloseTo50DayAvgPercentDiff = 0.273244 * PrevCloseTo200DayAvgPercentDiff + -0.257354<br>R<sup>2</sup>=0.388134<br><br>PrevCloseTo200DayAvgPercentDiff=%{x}<br>PrevCloseTo50DayAvgPercentDiff=%{y} <b>(trend)</b><extra></extra>",
         "legendgroup": "",
         "marker": {
          "color": "#1F77B4",
          "symbol": "circle"
         },
         "mode": "lines",
         "name": "",
         "showlegend": false,
         "type": "scatter",
         "x": [
          -0.9342503785966684,
          -0.713256357881268,
          -0.4056240110507878,
          -0.27781947029564213,
          -0.2473784578927959,
          -0.2333774704776238,
          -0.19892413265007802,
          -0.19057255245344873,
          -0.190527167866139,
          -0.18889158769003145,
          -0.15060556487469923,
          -0.14271487986693687,
          -0.11001038832701893,
          -0.08560084616605834,
          -0.06399694012090595,
          -0.05971040665687566,
          -0.050426705771398184,
          -0.013563215656260397,
          0.002465252809155327,
          0.005173320036784057,
          0.007367437911090846,
          0.012235961168381548,
          0.03877613784262568,
          0.04339098733489011,
          0.044251638565107054,
          0.062355392217884775,
          0.06544044988108699,
          0.08342561297039275,
          0.1079333568013765,
          0.1268335459849086,
          0.13577586206896552,
          0.1738355267057332,
          0.17815384935741285,
          0.22307783311525498,
          0.2549973931168139,
          0.2614457214250272,
          0.28369903944045394,
          0.30001031341515305,
          0.30151690572642975,
          0.3462257100149475,
          0.4831936339949512,
          0.5189911302637213,
          0.5499577149062642,
          0.7003116224753461,
          0.7190324751900994,
          0.7202593414392686,
          0.7864383916484339,
          0.945482088957633,
          1.3234447631367718,
          1.6883764509104422
         ],
         "xaxis": "x",
         "y": [
          -0.5126326315601486,
          -0.4522472941371981,
          -0.36818853541858204,
          -0.3332666841725547,
          -0.32494885367428367,
          -0.32112316487699066,
          -0.31170898967293603,
          -0.30942696870894915,
          -0.30941456763307557,
          -0.3089676548139105,
          -0.29850622061400545,
          -0.29635013659349896,
          -0.2874138235181907,
          -0.28074405736362334,
          -0.27484091504345043,
          -0.2736696445775695,
          -0.27113292702888403,
          -0.26106019165810723,
          -0.2566805053954472,
          -0.255940541695185,
          -0.2553410116818532,
          -0.25401071587253093,
          -0.24675876616569767,
          -0.24549778524483648,
          -0.24526261727616525,
          -0.24031587134427962,
          -0.2394728971888764,
          -0.234558555442259,
          -0.22786195624958205,
          -0.2226975889173321,
          -0.22025415279028024,
          -0.2098545696528918,
          -0.20867461297542736,
          -0.19639939435720977,
          -0.18767755928290936,
          -0.18591559088464724,
          -0.17983500050128887,
          -0.17537803926961443,
          -0.17496637163815199,
          -0.16274994956483452,
          -0.12532425687469204,
          -0.11554279815427579,
          -0.10708135808262595,
          -0.06599802283207443,
          -0.060882658152223795,
          -0.06054742404865354,
          -0.04246438151078663,
          0.000993388504528181,
          0.10426950221884601,
          0.2039849742990562
         ],
         "yaxis": "y"
        }
       ],
       "layout": {
        "legend": {
         "tracegroupgap": 0
        },
        "margin": {
         "t": 60
        },
        "template": {
         "data": {
          "bar": [
           {
            "error_x": {
             "color": "rgb(36,36,36)"
            },
            "error_y": {
             "color": "rgb(36,36,36)"
            },
            "marker": {
             "line": {
              "color": "white",
              "width": 0.5
             }
            },
            "type": "bar"
           }
          ],
          "barpolar": [
           {
            "marker": {
             "line": {
              "color": "white",
              "width": 0.5
             }
            },
            "type": "barpolar"
           }
          ],
          "carpet": [
           {
            "aaxis": {
             "endlinecolor": "rgb(36,36,36)",
             "gridcolor": "white",
             "linecolor": "white",
             "minorgridcolor": "white",
             "startlinecolor": "rgb(36,36,36)"
            },
            "baxis": {
             "endlinecolor": "rgb(36,36,36)",
             "gridcolor": "white",
             "linecolor": "white",
             "minorgridcolor": "white",
             "startlinecolor": "rgb(36,36,36)"
            },
            "type": "carpet"
           }
          ],
          "choropleth": [
           {
            "colorbar": {
             "outlinewidth": 1,
             "tickcolor": "rgb(36,36,36)",
             "ticks": "outside"
            },
            "type": "choropleth"
           }
          ],
          "contour": [
           {
            "colorbar": {
             "outlinewidth": 1,
             "tickcolor": "rgb(36,36,36)",
             "ticks": "outside"
            },
            "colorscale": [
             [
              0,
              "#440154"
             ],
             [
              0.1111111111111111,
              "#482878"
             ],
             [
              0.2222222222222222,
              "#3e4989"
             ],
             [
              0.3333333333333333,
              "#31688e"
             ],
             [
              0.4444444444444444,
              "#26828e"
             ],
             [
              0.5555555555555556,
              "#1f9e89"
             ],
             [
              0.6666666666666666,
              "#35b779"
             ],
             [
              0.7777777777777778,
              "#6ece58"
             ],
             [
              0.8888888888888888,
              "#b5de2b"
             ],
             [
              1,
              "#fde725"
             ]
            ],
            "type": "contour"
           }
          ],
          "contourcarpet": [
           {
            "colorbar": {
             "outlinewidth": 1,
             "tickcolor": "rgb(36,36,36)",
             "ticks": "outside"
            },
            "type": "contourcarpet"
           }
          ],
          "heatmap": [
           {
            "colorbar": {
             "outlinewidth": 1,
             "tickcolor": "rgb(36,36,36)",
             "ticks": "outside"
            },
            "colorscale": [
             [
              0,
              "#440154"
             ],
             [
              0.1111111111111111,
              "#482878"
             ],
             [
              0.2222222222222222,
              "#3e4989"
             ],
             [
              0.3333333333333333,
              "#31688e"
             ],
             [
              0.4444444444444444,
              "#26828e"
             ],
             [
              0.5555555555555556,
              "#1f9e89"
             ],
             [
              0.6666666666666666,
              "#35b779"
             ],
             [
              0.7777777777777778,
              "#6ece58"
             ],
             [
              0.8888888888888888,
              "#b5de2b"
             ],
             [
              1,
              "#fde725"
             ]
            ],
            "type": "heatmap"
           }
          ],
          "heatmapgl": [
           {
            "colorbar": {
             "outlinewidth": 1,
             "tickcolor": "rgb(36,36,36)",
             "ticks": "outside"
            },
            "colorscale": [
             [
              0,
              "#440154"
             ],
             [
              0.1111111111111111,
              "#482878"
             ],
             [
              0.2222222222222222,
              "#3e4989"
             ],
             [
              0.3333333333333333,
              "#31688e"
             ],
             [
              0.4444444444444444,
              "#26828e"
             ],
             [
              0.5555555555555556,
              "#1f9e89"
             ],
             [
              0.6666666666666666,
              "#35b779"
             ],
             [
              0.7777777777777778,
              "#6ece58"
             ],
             [
              0.8888888888888888,
              "#b5de2b"
             ],
             [
              1,
              "#fde725"
             ]
            ],
            "type": "heatmapgl"
           }
          ],
          "histogram": [
           {
            "marker": {
             "line": {
              "color": "white",
              "width": 0.6
             }
            },
            "type": "histogram"
           }
          ],
          "histogram2d": [
           {
            "colorbar": {
             "outlinewidth": 1,
             "tickcolor": "rgb(36,36,36)",
             "ticks": "outside"
            },
            "colorscale": [
             [
              0,
              "#440154"
             ],
             [
              0.1111111111111111,
              "#482878"
             ],
             [
              0.2222222222222222,
              "#3e4989"
             ],
             [
              0.3333333333333333,
              "#31688e"
             ],
             [
              0.4444444444444444,
              "#26828e"
             ],
             [
              0.5555555555555556,
              "#1f9e89"
             ],
             [
              0.6666666666666666,
              "#35b779"
             ],
             [
              0.7777777777777778,
              "#6ece58"
             ],
             [
              0.8888888888888888,
              "#b5de2b"
             ],
             [
              1,
              "#fde725"
             ]
            ],
            "type": "histogram2d"
           }
          ],
          "histogram2dcontour": [
           {
            "colorbar": {
             "outlinewidth": 1,
             "tickcolor": "rgb(36,36,36)",
             "ticks": "outside"
            },
            "colorscale": [
             [
              0,
              "#440154"
             ],
             [
              0.1111111111111111,
              "#482878"
             ],
             [
              0.2222222222222222,
              "#3e4989"
             ],
             [
              0.3333333333333333,
              "#31688e"
             ],
             [
              0.4444444444444444,
              "#26828e"
             ],
             [
              0.5555555555555556,
              "#1f9e89"
             ],
             [
              0.6666666666666666,
              "#35b779"
             ],
             [
              0.7777777777777778,
              "#6ece58"
             ],
             [
              0.8888888888888888,
              "#b5de2b"
             ],
             [
              1,
              "#fde725"
             ]
            ],
            "type": "histogram2dcontour"
           }
          ],
          "mesh3d": [
           {
            "colorbar": {
             "outlinewidth": 1,
             "tickcolor": "rgb(36,36,36)",
             "ticks": "outside"
            },
            "type": "mesh3d"
           }
          ],
          "parcoords": [
           {
            "line": {
             "colorbar": {
              "outlinewidth": 1,
              "tickcolor": "rgb(36,36,36)",
              "ticks": "outside"
             }
            },
            "type": "parcoords"
           }
          ],
          "pie": [
           {
            "automargin": true,
            "type": "pie"
           }
          ],
          "scatter": [
           {
            "marker": {
             "colorbar": {
              "outlinewidth": 1,
              "tickcolor": "rgb(36,36,36)",
              "ticks": "outside"
             }
            },
            "type": "scatter"
           }
          ],
          "scatter3d": [
           {
            "line": {
             "colorbar": {
              "outlinewidth": 1,
              "tickcolor": "rgb(36,36,36)",
              "ticks": "outside"
             }
            },
            "marker": {
             "colorbar": {
              "outlinewidth": 1,
              "tickcolor": "rgb(36,36,36)",
              "ticks": "outside"
             }
            },
            "type": "scatter3d"
           }
          ],
          "scattercarpet": [
           {
            "marker": {
             "colorbar": {
              "outlinewidth": 1,
              "tickcolor": "rgb(36,36,36)",
              "ticks": "outside"
             }
            },
            "type": "scattercarpet"
           }
          ],
          "scattergeo": [
           {
            "marker": {
             "colorbar": {
              "outlinewidth": 1,
              "tickcolor": "rgb(36,36,36)",
              "ticks": "outside"
             }
            },
            "type": "scattergeo"
           }
          ],
          "scattergl": [
           {
            "marker": {
             "colorbar": {
              "outlinewidth": 1,
              "tickcolor": "rgb(36,36,36)",
              "ticks": "outside"
             }
            },
            "type": "scattergl"
           }
          ],
          "scattermapbox": [
           {
            "marker": {
             "colorbar": {
              "outlinewidth": 1,
              "tickcolor": "rgb(36,36,36)",
              "ticks": "outside"
             }
            },
            "type": "scattermapbox"
           }
          ],
          "scatterpolar": [
           {
            "marker": {
             "colorbar": {
              "outlinewidth": 1,
              "tickcolor": "rgb(36,36,36)",
              "ticks": "outside"
             }
            },
            "type": "scatterpolar"
           }
          ],
          "scatterpolargl": [
           {
            "marker": {
             "colorbar": {
              "outlinewidth": 1,
              "tickcolor": "rgb(36,36,36)",
              "ticks": "outside"
             }
            },
            "type": "scatterpolargl"
           }
          ],
          "scatterternary": [
           {
            "marker": {
             "colorbar": {
              "outlinewidth": 1,
              "tickcolor": "rgb(36,36,36)",
              "ticks": "outside"
             }
            },
            "type": "scatterternary"
           }
          ],
          "surface": [
           {
            "colorbar": {
             "outlinewidth": 1,
             "tickcolor": "rgb(36,36,36)",
             "ticks": "outside"
            },
            "colorscale": [
             [
              0,
              "#440154"
             ],
             [
              0.1111111111111111,
              "#482878"
             ],
             [
              0.2222222222222222,
              "#3e4989"
             ],
             [
              0.3333333333333333,
              "#31688e"
             ],
             [
              0.4444444444444444,
              "#26828e"
             ],
             [
              0.5555555555555556,
              "#1f9e89"
             ],
             [
              0.6666666666666666,
              "#35b779"
             ],
             [
              0.7777777777777778,
              "#6ece58"
             ],
             [
              0.8888888888888888,
              "#b5de2b"
             ],
             [
              1,
              "#fde725"
             ]
            ],
            "type": "surface"
           }
          ],
          "table": [
           {
            "cells": {
             "fill": {
              "color": "rgb(237,237,237)"
             },
             "line": {
              "color": "white"
             }
            },
            "header": {
             "fill": {
              "color": "rgb(217,217,217)"
             },
             "line": {
              "color": "white"
             }
            },
            "type": "table"
           }
          ]
         },
         "layout": {
          "annotationdefaults": {
           "arrowhead": 0,
           "arrowwidth": 1
          },
          "autotypenumbers": "strict",
          "coloraxis": {
           "colorbar": {
            "outlinewidth": 1,
            "tickcolor": "rgb(36,36,36)",
            "ticks": "outside"
           }
          },
          "colorscale": {
           "diverging": [
            [
             0,
             "rgb(103,0,31)"
            ],
            [
             0.1,
             "rgb(178,24,43)"
            ],
            [
             0.2,
             "rgb(214,96,77)"
            ],
            [
             0.3,
             "rgb(244,165,130)"
            ],
            [
             0.4,
             "rgb(253,219,199)"
            ],
            [
             0.5,
             "rgb(247,247,247)"
            ],
            [
             0.6,
             "rgb(209,229,240)"
            ],
            [
             0.7,
             "rgb(146,197,222)"
            ],
            [
             0.8,
             "rgb(67,147,195)"
            ],
            [
             0.9,
             "rgb(33,102,172)"
            ],
            [
             1,
             "rgb(5,48,97)"
            ]
           ],
           "sequential": [
            [
             0,
             "#440154"
            ],
            [
             0.1111111111111111,
             "#482878"
            ],
            [
             0.2222222222222222,
             "#3e4989"
            ],
            [
             0.3333333333333333,
             "#31688e"
            ],
            [
             0.4444444444444444,
             "#26828e"
            ],
            [
             0.5555555555555556,
             "#1f9e89"
            ],
            [
             0.6666666666666666,
             "#35b779"
            ],
            [
             0.7777777777777778,
             "#6ece58"
            ],
            [
             0.8888888888888888,
             "#b5de2b"
            ],
            [
             1,
             "#fde725"
            ]
           ],
           "sequentialminus": [
            [
             0,
             "#440154"
            ],
            [
             0.1111111111111111,
             "#482878"
            ],
            [
             0.2222222222222222,
             "#3e4989"
            ],
            [
             0.3333333333333333,
             "#31688e"
            ],
            [
             0.4444444444444444,
             "#26828e"
            ],
            [
             0.5555555555555556,
             "#1f9e89"
            ],
            [
             0.6666666666666666,
             "#35b779"
            ],
            [
             0.7777777777777778,
             "#6ece58"
            ],
            [
             0.8888888888888888,
             "#b5de2b"
            ],
            [
             1,
             "#fde725"
            ]
           ]
          },
          "colorway": [
           "#1F77B4",
           "#FF7F0E",
           "#2CA02C",
           "#D62728",
           "#9467BD",
           "#8C564B",
           "#E377C2",
           "#7F7F7F",
           "#BCBD22",
           "#17BECF"
          ],
          "font": {
           "color": "rgb(36,36,36)"
          },
          "geo": {
           "bgcolor": "white",
           "lakecolor": "white",
           "landcolor": "white",
           "showlakes": true,
           "showland": true,
           "subunitcolor": "white"
          },
          "hoverlabel": {
           "align": "left"
          },
          "hovermode": "closest",
          "mapbox": {
           "style": "light"
          },
          "paper_bgcolor": "white",
          "plot_bgcolor": "white",
          "polar": {
           "angularaxis": {
            "gridcolor": "rgb(232,232,232)",
            "linecolor": "rgb(36,36,36)",
            "showgrid": false,
            "showline": true,
            "ticks": "outside"
           },
           "bgcolor": "white",
           "radialaxis": {
            "gridcolor": "rgb(232,232,232)",
            "linecolor": "rgb(36,36,36)",
            "showgrid": false,
            "showline": true,
            "ticks": "outside"
           }
          },
          "scene": {
           "xaxis": {
            "backgroundcolor": "white",
            "gridcolor": "rgb(232,232,232)",
            "gridwidth": 2,
            "linecolor": "rgb(36,36,36)",
            "showbackground": true,
            "showgrid": false,
            "showline": true,
            "ticks": "outside",
            "zeroline": false,
            "zerolinecolor": "rgb(36,36,36)"
           },
           "yaxis": {
            "backgroundcolor": "white",
            "gridcolor": "rgb(232,232,232)",
            "gridwidth": 2,
            "linecolor": "rgb(36,36,36)",
            "showbackground": true,
            "showgrid": false,
            "showline": true,
            "ticks": "outside",
            "zeroline": false,
            "zerolinecolor": "rgb(36,36,36)"
           },
           "zaxis": {
            "backgroundcolor": "white",
            "gridcolor": "rgb(232,232,232)",
            "gridwidth": 2,
            "linecolor": "rgb(36,36,36)",
            "showbackground": true,
            "showgrid": false,
            "showline": true,
            "ticks": "outside",
            "zeroline": false,
            "zerolinecolor": "rgb(36,36,36)"
           }
          },
          "shapedefaults": {
           "fillcolor": "black",
           "line": {
            "width": 0
           },
           "opacity": 0.3
          },
          "ternary": {
           "aaxis": {
            "gridcolor": "rgb(232,232,232)",
            "linecolor": "rgb(36,36,36)",
            "showgrid": false,
            "showline": true,
            "ticks": "outside"
           },
           "baxis": {
            "gridcolor": "rgb(232,232,232)",
            "linecolor": "rgb(36,36,36)",
            "showgrid": false,
            "showline": true,
            "ticks": "outside"
           },
           "bgcolor": "white",
           "caxis": {
            "gridcolor": "rgb(232,232,232)",
            "linecolor": "rgb(36,36,36)",
            "showgrid": false,
            "showline": true,
            "ticks": "outside"
           }
          },
          "title": {
           "x": 0.05
          },
          "xaxis": {
           "automargin": true,
           "gridcolor": "rgb(232,232,232)",
           "linecolor": "rgb(36,36,36)",
           "showgrid": false,
           "showline": true,
           "ticks": "outside",
           "title": {
            "standoff": 15
           },
           "zeroline": false,
           "zerolinecolor": "rgb(36,36,36)"
          },
          "yaxis": {
           "automargin": true,
           "gridcolor": "rgb(232,232,232)",
           "linecolor": "rgb(36,36,36)",
           "showgrid": false,
           "showline": true,
           "ticks": "outside",
           "title": {
            "standoff": 15
           },
           "zeroline": false,
           "zerolinecolor": "rgb(36,36,36)"
          }
         }
        },
        "xaxis": {
         "anchor": "y",
         "domain": [
          0,
          0.8358
         ],
         "title": {
          "text": "PrevCloseTo200DayAvgPercentDiff"
         }
        },
        "xaxis2": {
         "anchor": "y2",
         "domain": [
          0.8408,
          1
         ],
         "matches": "x2",
         "showline": false,
         "showticklabels": false,
         "ticks": ""
        },
        "xaxis3": {
         "anchor": "y3",
         "domain": [
          0,
          0.8358
         ],
         "matches": "x",
         "showticklabels": false
        },
        "xaxis4": {
         "anchor": "y4",
         "domain": [
          0.8408,
          1
         ],
         "matches": "x2",
         "showline": false,
         "showticklabels": false,
         "ticks": ""
        },
        "yaxis": {
         "anchor": "x",
         "domain": [
          0,
          0.8316
         ],
         "title": {
          "text": "PrevCloseTo50DayAvgPercentDiff"
         }
        },
        "yaxis2": {
         "anchor": "x2",
         "domain": [
          0,
          0.8316
         ],
         "matches": "y",
         "showticklabels": false
        },
        "yaxis3": {
         "anchor": "x3",
         "domain": [
          0.8416,
          1
         ],
         "matches": "y3",
         "showline": false,
         "showticklabels": false,
         "ticks": ""
        },
        "yaxis4": {
         "anchor": "x4",
         "domain": [
          0.8416,
          1
         ],
         "matches": "y3",
         "showline": false,
         "showticklabels": false,
         "ticks": ""
        }
       }
      },
      "text/html": [
       "<div>                            <div id=\"a7af25b5-a9b2-4b34-afa4-a71da4d6b72e\" class=\"plotly-graph-div\" style=\"height:525px; width:100%;\"></div>            <script type=\"text/javascript\">                require([\"plotly\"], function(Plotly) {                    window.PLOTLYENV=window.PLOTLYENV || {};                                    if (document.getElementById(\"a7af25b5-a9b2-4b34-afa4-a71da4d6b72e\")) {                    Plotly.newPlot(                        \"a7af25b5-a9b2-4b34-afa4-a71da4d6b72e\",                        [{\"hovertemplate\": \"PrevCloseTo200DayAvgPercentDiff=%{x}<br>PrevCloseTo50DayAvgPercentDiff=%{y}<extra></extra>\", \"legendgroup\": \"\", \"marker\": {\"color\": \"#1F77B4\", \"symbol\": \"circle\"}, \"mode\": \"markers\", \"name\": \"\", \"orientation\": \"v\", \"showlegend\": false, \"type\": \"scatter\", \"x\": [0.7003116224753461, 0.012235961168381548, 0.04339098733489011, 0.13577586206896552, 1.6883764509104422, 0.08342561297039275, 0.1738355267057332, -0.27781947029564213, 0.945482088957633, 0.1268335459849086, 0.2614457214250272, 1.3234447631367718, 0.30151690572642975, -0.08560084616605834, 0.5189911302637213, -0.050426705771398184, -0.11001038832701893, 0.7202593414392686, -0.9342503785966684, 0.17815384935741285, -0.18889158769003145, 0.2549973931168139, 0.005173320036784057, 0.28369903944045394, 0.062355392217884775, 0.22307783311525498, 0.7190324751900994, 0.002465252809155327, 0.044251638565107054, -0.05971040665687566, -0.15060556487469923, -0.190527167866139, -0.2333774704776238, 0.3462257100149475, 0.5499577149062642, 0.007367437911090846, 0.06544044988108699, 0.03877613784262568, 0.7864383916484339, 0.4831936339949512, 0.30001031341515305, -0.06399694012090595, -0.19892413265007802, 0.1079333568013765, -0.4056240110507878, -0.013563215656260397, -0.14271487986693687, -0.713256357881268, -0.2473784578927959, -0.19057255245344873], \"xaxis\": \"x\", \"y\": [-0.020755283244072498, 0.015547872164204168, 0.01902244368041628, -0.4436482444383696, 0.11980467891721691, -0.25844045948853034, 0.06930956085826745, -0.21845035959234116, 0.2080807914330094, -0.12253060613245803, -0.3706868899977521, 0.11310460359872443, -0.10582090059329452, -0.5781043223381904, 0.12437825552546844, -0.4143668220202208, -0.2183642826138401, -0.2515576466326437, -0.9342503785966684, -0.3056370804009284, -0.32397109777610966, -0.41766480327449795, -0.28976186626603806, -0.25354212717033653, -0.12769971982438155, -0.3360160698598016, -0.19952965160581349, -0.48122456123202073, -0.1934576670425936, -0.19103974545709157, -0.28550945238241965, -0.27773905839244906, -0.11174615439686386, -0.230203872571336, -0.03371420583309026, -0.23231686640044147, -0.42148825993600114, -0.3807577927963791, 0.002232197279966819, -0.1501863386634803, -0.14878251157099653, -0.26352574033331044, -0.3131686054889896, -0.11839706955185914, -0.26201023852324956, -0.34522106599294344, -0.34017831948411215, -0.2305721627564149, -0.22468766758053027, -0.1350947842945729], \"yaxis\": \"y\"}, {\"alignmentgroup\": \"True\", \"hovertemplate\": \"PrevCloseTo200DayAvgPercentDiff=%{x}<extra></extra>\", \"legendgroup\": \"\", \"marker\": {\"color\": \"#1F77B4\", \"symbol\": \"circle\"}, \"name\": \"\", \"notched\": true, \"offsetgroup\": \"\", \"showlegend\": false, \"type\": \"box\", \"x\": [0.7003116224753461, 0.012235961168381548, 0.04339098733489011, 0.13577586206896552, 1.6883764509104422, 0.08342561297039275, 0.1738355267057332, -0.27781947029564213, 0.945482088957633, 0.1268335459849086, 0.2614457214250272, 1.3234447631367718, 0.30151690572642975, -0.08560084616605834, 0.5189911302637213, -0.050426705771398184, -0.11001038832701893, 0.7202593414392686, -0.9342503785966684, 0.17815384935741285, -0.18889158769003145, 0.2549973931168139, 0.005173320036784057, 0.28369903944045394, 0.062355392217884775, 0.22307783311525498, 0.7190324751900994, 0.002465252809155327, 0.044251638565107054, -0.05971040665687566, -0.15060556487469923, -0.190527167866139, -0.2333774704776238, 0.3462257100149475, 0.5499577149062642, 0.007367437911090846, 0.06544044988108699, 0.03877613784262568, 0.7864383916484339, 0.4831936339949512, 0.30001031341515305, -0.06399694012090595, -0.19892413265007802, 0.1079333568013765, -0.4056240110507878, -0.013563215656260397, -0.14271487986693687, -0.713256357881268, -0.2473784578927959, -0.19057255245344873], \"xaxis\": \"x3\", \"yaxis\": \"y3\"}, {\"alignmentgroup\": \"True\", \"hovertemplate\": \"PrevCloseTo50DayAvgPercentDiff=%{y}<extra></extra>\", \"legendgroup\": \"\", \"marker\": {\"color\": \"#1F77B4\", \"symbol\": \"circle\"}, \"name\": \"\", \"offsetgroup\": \"\", \"scalegroup\": \"y\", \"showlegend\": false, \"type\": \"violin\", \"xaxis\": \"x2\", \"y\": [-0.020755283244072498, 0.015547872164204168, 0.01902244368041628, -0.4436482444383696, 0.11980467891721691, -0.25844045948853034, 0.06930956085826745, -0.21845035959234116, 0.2080807914330094, -0.12253060613245803, -0.3706868899977521, 0.11310460359872443, -0.10582090059329452, -0.5781043223381904, 0.12437825552546844, -0.4143668220202208, -0.2183642826138401, -0.2515576466326437, -0.9342503785966684, -0.3056370804009284, -0.32397109777610966, -0.41766480327449795, -0.28976186626603806, -0.25354212717033653, -0.12769971982438155, -0.3360160698598016, -0.19952965160581349, -0.48122456123202073, -0.1934576670425936, -0.19103974545709157, -0.28550945238241965, -0.27773905839244906, -0.11174615439686386, -0.230203872571336, -0.03371420583309026, -0.23231686640044147, -0.42148825993600114, -0.3807577927963791, 0.002232197279966819, -0.1501863386634803, -0.14878251157099653, -0.26352574033331044, -0.3131686054889896, -0.11839706955185914, -0.26201023852324956, -0.34522106599294344, -0.34017831948411215, -0.2305721627564149, -0.22468766758053027, -0.1350947842945729], \"yaxis\": \"y2\"}, {\"hovertemplate\": \"<b>OLS trendline</b><br>PrevCloseTo50DayAvgPercentDiff = 0.273244 * PrevCloseTo200DayAvgPercentDiff + -0.257354<br>R<sup>2</sup>=0.388134<br><br>PrevCloseTo200DayAvgPercentDiff=%{x}<br>PrevCloseTo50DayAvgPercentDiff=%{y} <b>(trend)</b><extra></extra>\", \"legendgroup\": \"\", \"marker\": {\"color\": \"#1F77B4\", \"symbol\": \"circle\"}, \"mode\": \"lines\", \"name\": \"\", \"showlegend\": false, \"type\": \"scatter\", \"x\": [-0.9342503785966684, -0.713256357881268, -0.4056240110507878, -0.27781947029564213, -0.2473784578927959, -0.2333774704776238, -0.19892413265007802, -0.19057255245344873, -0.190527167866139, -0.18889158769003145, -0.15060556487469923, -0.14271487986693687, -0.11001038832701893, -0.08560084616605834, -0.06399694012090595, -0.05971040665687566, -0.050426705771398184, -0.013563215656260397, 0.002465252809155327, 0.005173320036784057, 0.007367437911090846, 0.012235961168381548, 0.03877613784262568, 0.04339098733489011, 0.044251638565107054, 0.062355392217884775, 0.06544044988108699, 0.08342561297039275, 0.1079333568013765, 0.1268335459849086, 0.13577586206896552, 0.1738355267057332, 0.17815384935741285, 0.22307783311525498, 0.2549973931168139, 0.2614457214250272, 0.28369903944045394, 0.30001031341515305, 0.30151690572642975, 0.3462257100149475, 0.4831936339949512, 0.5189911302637213, 0.5499577149062642, 0.7003116224753461, 0.7190324751900994, 0.7202593414392686, 0.7864383916484339, 0.945482088957633, 1.3234447631367718, 1.6883764509104422], \"xaxis\": \"x\", \"y\": [-0.5126326315601486, -0.4522472941371981, -0.36818853541858204, -0.3332666841725547, -0.32494885367428367, -0.32112316487699066, -0.31170898967293603, -0.30942696870894915, -0.30941456763307557, -0.3089676548139105, -0.29850622061400545, -0.29635013659349896, -0.2874138235181907, -0.28074405736362334, -0.27484091504345043, -0.2736696445775695, -0.27113292702888403, -0.26106019165810723, -0.2566805053954472, -0.255940541695185, -0.2553410116818532, -0.25401071587253093, -0.24675876616569767, -0.24549778524483648, -0.24526261727616525, -0.24031587134427962, -0.2394728971888764, -0.234558555442259, -0.22786195624958205, -0.2226975889173321, -0.22025415279028024, -0.2098545696528918, -0.20867461297542736, -0.19639939435720977, -0.18767755928290936, -0.18591559088464724, -0.17983500050128887, -0.17537803926961443, -0.17496637163815199, -0.16274994956483452, -0.12532425687469204, -0.11554279815427579, -0.10708135808262595, -0.06599802283207443, -0.060882658152223795, -0.06054742404865354, -0.04246438151078663, 0.000993388504528181, 0.10426950221884601, 0.2039849742990562], \"yaxis\": \"y\"}],                        {\"legend\": {\"tracegroupgap\": 0}, \"margin\": {\"t\": 60}, \"template\": {\"data\": {\"bar\": [{\"error_x\": {\"color\": \"rgb(36,36,36)\"}, \"error_y\": {\"color\": \"rgb(36,36,36)\"}, \"marker\": {\"line\": {\"color\": \"white\", \"width\": 0.5}}, \"type\": \"bar\"}], \"barpolar\": [{\"marker\": {\"line\": {\"color\": \"white\", \"width\": 0.5}}, \"type\": \"barpolar\"}], \"carpet\": [{\"aaxis\": {\"endlinecolor\": \"rgb(36,36,36)\", \"gridcolor\": \"white\", \"linecolor\": \"white\", \"minorgridcolor\": \"white\", \"startlinecolor\": \"rgb(36,36,36)\"}, \"baxis\": {\"endlinecolor\": \"rgb(36,36,36)\", \"gridcolor\": \"white\", \"linecolor\": \"white\", \"minorgridcolor\": \"white\", \"startlinecolor\": \"rgb(36,36,36)\"}, \"type\": \"carpet\"}], \"choropleth\": [{\"colorbar\": {\"outlinewidth\": 1, \"tickcolor\": \"rgb(36,36,36)\", \"ticks\": \"outside\"}, \"type\": \"choropleth\"}], \"contour\": [{\"colorbar\": {\"outlinewidth\": 1, \"tickcolor\": \"rgb(36,36,36)\", \"ticks\": \"outside\"}, \"colorscale\": [[0.0, \"#440154\"], [0.1111111111111111, \"#482878\"], [0.2222222222222222, \"#3e4989\"], [0.3333333333333333, \"#31688e\"], [0.4444444444444444, \"#26828e\"], [0.5555555555555556, \"#1f9e89\"], [0.6666666666666666, \"#35b779\"], [0.7777777777777778, \"#6ece58\"], [0.8888888888888888, \"#b5de2b\"], [1.0, \"#fde725\"]], \"type\": \"contour\"}], \"contourcarpet\": [{\"colorbar\": {\"outlinewidth\": 1, \"tickcolor\": \"rgb(36,36,36)\", \"ticks\": \"outside\"}, \"type\": \"contourcarpet\"}], \"heatmap\": [{\"colorbar\": {\"outlinewidth\": 1, \"tickcolor\": \"rgb(36,36,36)\", \"ticks\": \"outside\"}, \"colorscale\": [[0.0, \"#440154\"], [0.1111111111111111, \"#482878\"], [0.2222222222222222, \"#3e4989\"], [0.3333333333333333, \"#31688e\"], [0.4444444444444444, \"#26828e\"], [0.5555555555555556, \"#1f9e89\"], [0.6666666666666666, \"#35b779\"], [0.7777777777777778, \"#6ece58\"], [0.8888888888888888, \"#b5de2b\"], [1.0, \"#fde725\"]], \"type\": \"heatmap\"}], \"heatmapgl\": [{\"colorbar\": {\"outlinewidth\": 1, \"tickcolor\": \"rgb(36,36,36)\", \"ticks\": \"outside\"}, \"colorscale\": [[0.0, \"#440154\"], [0.1111111111111111, \"#482878\"], [0.2222222222222222, \"#3e4989\"], [0.3333333333333333, \"#31688e\"], [0.4444444444444444, \"#26828e\"], [0.5555555555555556, \"#1f9e89\"], [0.6666666666666666, \"#35b779\"], [0.7777777777777778, \"#6ece58\"], [0.8888888888888888, \"#b5de2b\"], [1.0, \"#fde725\"]], \"type\": \"heatmapgl\"}], \"histogram\": [{\"marker\": {\"line\": {\"color\": \"white\", \"width\": 0.6}}, \"type\": \"histogram\"}], \"histogram2d\": [{\"colorbar\": {\"outlinewidth\": 1, \"tickcolor\": \"rgb(36,36,36)\", \"ticks\": \"outside\"}, \"colorscale\": [[0.0, \"#440154\"], [0.1111111111111111, \"#482878\"], [0.2222222222222222, \"#3e4989\"], [0.3333333333333333, \"#31688e\"], [0.4444444444444444, \"#26828e\"], [0.5555555555555556, \"#1f9e89\"], [0.6666666666666666, \"#35b779\"], [0.7777777777777778, \"#6ece58\"], [0.8888888888888888, \"#b5de2b\"], [1.0, \"#fde725\"]], \"type\": \"histogram2d\"}], \"histogram2dcontour\": [{\"colorbar\": {\"outlinewidth\": 1, \"tickcolor\": \"rgb(36,36,36)\", \"ticks\": \"outside\"}, \"colorscale\": [[0.0, \"#440154\"], [0.1111111111111111, \"#482878\"], [0.2222222222222222, \"#3e4989\"], [0.3333333333333333, \"#31688e\"], [0.4444444444444444, \"#26828e\"], [0.5555555555555556, \"#1f9e89\"], [0.6666666666666666, \"#35b779\"], [0.7777777777777778, \"#6ece58\"], [0.8888888888888888, \"#b5de2b\"], [1.0, \"#fde725\"]], \"type\": \"histogram2dcontour\"}], \"mesh3d\": [{\"colorbar\": {\"outlinewidth\": 1, \"tickcolor\": \"rgb(36,36,36)\", \"ticks\": \"outside\"}, \"type\": \"mesh3d\"}], \"parcoords\": [{\"line\": {\"colorbar\": {\"outlinewidth\": 1, \"tickcolor\": \"rgb(36,36,36)\", \"ticks\": \"outside\"}}, \"type\": \"parcoords\"}], \"pie\": [{\"automargin\": true, \"type\": \"pie\"}], \"scatter\": [{\"marker\": {\"colorbar\": {\"outlinewidth\": 1, \"tickcolor\": \"rgb(36,36,36)\", \"ticks\": \"outside\"}}, \"type\": \"scatter\"}], \"scatter3d\": [{\"line\": {\"colorbar\": {\"outlinewidth\": 1, \"tickcolor\": \"rgb(36,36,36)\", \"ticks\": \"outside\"}}, \"marker\": {\"colorbar\": {\"outlinewidth\": 1, \"tickcolor\": \"rgb(36,36,36)\", \"ticks\": \"outside\"}}, \"type\": \"scatter3d\"}], \"scattercarpet\": [{\"marker\": {\"colorbar\": {\"outlinewidth\": 1, \"tickcolor\": \"rgb(36,36,36)\", \"ticks\": \"outside\"}}, \"type\": \"scattercarpet\"}], \"scattergeo\": [{\"marker\": {\"colorbar\": {\"outlinewidth\": 1, \"tickcolor\": \"rgb(36,36,36)\", \"ticks\": \"outside\"}}, \"type\": \"scattergeo\"}], \"scattergl\": [{\"marker\": {\"colorbar\": {\"outlinewidth\": 1, \"tickcolor\": \"rgb(36,36,36)\", \"ticks\": \"outside\"}}, \"type\": \"scattergl\"}], \"scattermapbox\": [{\"marker\": {\"colorbar\": {\"outlinewidth\": 1, \"tickcolor\": \"rgb(36,36,36)\", \"ticks\": \"outside\"}}, \"type\": \"scattermapbox\"}], \"scatterpolar\": [{\"marker\": {\"colorbar\": {\"outlinewidth\": 1, \"tickcolor\": \"rgb(36,36,36)\", \"ticks\": \"outside\"}}, \"type\": \"scatterpolar\"}], \"scatterpolargl\": [{\"marker\": {\"colorbar\": {\"outlinewidth\": 1, \"tickcolor\": \"rgb(36,36,36)\", \"ticks\": \"outside\"}}, \"type\": \"scatterpolargl\"}], \"scatterternary\": [{\"marker\": {\"colorbar\": {\"outlinewidth\": 1, \"tickcolor\": \"rgb(36,36,36)\", \"ticks\": \"outside\"}}, \"type\": \"scatterternary\"}], \"surface\": [{\"colorbar\": {\"outlinewidth\": 1, \"tickcolor\": \"rgb(36,36,36)\", \"ticks\": \"outside\"}, \"colorscale\": [[0.0, \"#440154\"], [0.1111111111111111, \"#482878\"], [0.2222222222222222, \"#3e4989\"], [0.3333333333333333, \"#31688e\"], [0.4444444444444444, \"#26828e\"], [0.5555555555555556, \"#1f9e89\"], [0.6666666666666666, \"#35b779\"], [0.7777777777777778, \"#6ece58\"], [0.8888888888888888, \"#b5de2b\"], [1.0, \"#fde725\"]], \"type\": \"surface\"}], \"table\": [{\"cells\": {\"fill\": {\"color\": \"rgb(237,237,237)\"}, \"line\": {\"color\": \"white\"}}, \"header\": {\"fill\": {\"color\": \"rgb(217,217,217)\"}, \"line\": {\"color\": \"white\"}}, \"type\": \"table\"}]}, \"layout\": {\"annotationdefaults\": {\"arrowhead\": 0, \"arrowwidth\": 1}, \"autotypenumbers\": \"strict\", \"coloraxis\": {\"colorbar\": {\"outlinewidth\": 1, \"tickcolor\": \"rgb(36,36,36)\", \"ticks\": \"outside\"}}, \"colorscale\": {\"diverging\": [[0.0, \"rgb(103,0,31)\"], [0.1, \"rgb(178,24,43)\"], [0.2, \"rgb(214,96,77)\"], [0.3, \"rgb(244,165,130)\"], [0.4, \"rgb(253,219,199)\"], [0.5, \"rgb(247,247,247)\"], [0.6, \"rgb(209,229,240)\"], [0.7, \"rgb(146,197,222)\"], [0.8, \"rgb(67,147,195)\"], [0.9, \"rgb(33,102,172)\"], [1.0, \"rgb(5,48,97)\"]], \"sequential\": [[0.0, \"#440154\"], [0.1111111111111111, \"#482878\"], [0.2222222222222222, \"#3e4989\"], [0.3333333333333333, \"#31688e\"], [0.4444444444444444, \"#26828e\"], [0.5555555555555556, \"#1f9e89\"], [0.6666666666666666, \"#35b779\"], [0.7777777777777778, \"#6ece58\"], [0.8888888888888888, \"#b5de2b\"], [1.0, \"#fde725\"]], \"sequentialminus\": [[0.0, \"#440154\"], [0.1111111111111111, \"#482878\"], [0.2222222222222222, \"#3e4989\"], [0.3333333333333333, \"#31688e\"], [0.4444444444444444, \"#26828e\"], [0.5555555555555556, \"#1f9e89\"], [0.6666666666666666, \"#35b779\"], [0.7777777777777778, \"#6ece58\"], [0.8888888888888888, \"#b5de2b\"], [1.0, \"#fde725\"]]}, \"colorway\": [\"#1F77B4\", \"#FF7F0E\", \"#2CA02C\", \"#D62728\", \"#9467BD\", \"#8C564B\", \"#E377C2\", \"#7F7F7F\", \"#BCBD22\", \"#17BECF\"], \"font\": {\"color\": \"rgb(36,36,36)\"}, \"geo\": {\"bgcolor\": \"white\", \"lakecolor\": \"white\", \"landcolor\": \"white\", \"showlakes\": true, \"showland\": true, \"subunitcolor\": \"white\"}, \"hoverlabel\": {\"align\": \"left\"}, \"hovermode\": \"closest\", \"mapbox\": {\"style\": \"light\"}, \"paper_bgcolor\": \"white\", \"plot_bgcolor\": \"white\", \"polar\": {\"angularaxis\": {\"gridcolor\": \"rgb(232,232,232)\", \"linecolor\": \"rgb(36,36,36)\", \"showgrid\": false, \"showline\": true, \"ticks\": \"outside\"}, \"bgcolor\": \"white\", \"radialaxis\": {\"gridcolor\": \"rgb(232,232,232)\", \"linecolor\": \"rgb(36,36,36)\", \"showgrid\": false, \"showline\": true, \"ticks\": \"outside\"}}, \"scene\": {\"xaxis\": {\"backgroundcolor\": \"white\", \"gridcolor\": \"rgb(232,232,232)\", \"gridwidth\": 2, \"linecolor\": \"rgb(36,36,36)\", \"showbackground\": true, \"showgrid\": false, \"showline\": true, \"ticks\": \"outside\", \"zeroline\": false, \"zerolinecolor\": \"rgb(36,36,36)\"}, \"yaxis\": {\"backgroundcolor\": \"white\", \"gridcolor\": \"rgb(232,232,232)\", \"gridwidth\": 2, \"linecolor\": \"rgb(36,36,36)\", \"showbackground\": true, \"showgrid\": false, \"showline\": true, \"ticks\": \"outside\", \"zeroline\": false, \"zerolinecolor\": \"rgb(36,36,36)\"}, \"zaxis\": {\"backgroundcolor\": \"white\", \"gridcolor\": \"rgb(232,232,232)\", \"gridwidth\": 2, \"linecolor\": \"rgb(36,36,36)\", \"showbackground\": true, \"showgrid\": false, \"showline\": true, \"ticks\": \"outside\", \"zeroline\": false, \"zerolinecolor\": \"rgb(36,36,36)\"}}, \"shapedefaults\": {\"fillcolor\": \"black\", \"line\": {\"width\": 0}, \"opacity\": 0.3}, \"ternary\": {\"aaxis\": {\"gridcolor\": \"rgb(232,232,232)\", \"linecolor\": \"rgb(36,36,36)\", \"showgrid\": false, \"showline\": true, \"ticks\": \"outside\"}, \"baxis\": {\"gridcolor\": \"rgb(232,232,232)\", \"linecolor\": \"rgb(36,36,36)\", \"showgrid\": false, \"showline\": true, \"ticks\": \"outside\"}, \"bgcolor\": \"white\", \"caxis\": {\"gridcolor\": \"rgb(232,232,232)\", \"linecolor\": \"rgb(36,36,36)\", \"showgrid\": false, \"showline\": true, \"ticks\": \"outside\"}}, \"title\": {\"x\": 0.05}, \"xaxis\": {\"automargin\": true, \"gridcolor\": \"rgb(232,232,232)\", \"linecolor\": \"rgb(36,36,36)\", \"showgrid\": false, \"showline\": true, \"ticks\": \"outside\", \"title\": {\"standoff\": 15}, \"zeroline\": false, \"zerolinecolor\": \"rgb(36,36,36)\"}, \"yaxis\": {\"automargin\": true, \"gridcolor\": \"rgb(232,232,232)\", \"linecolor\": \"rgb(36,36,36)\", \"showgrid\": false, \"showline\": true, \"ticks\": \"outside\", \"title\": {\"standoff\": 15}, \"zeroline\": false, \"zerolinecolor\": \"rgb(36,36,36)\"}}}, \"xaxis\": {\"anchor\": \"y\", \"domain\": [0.0, 0.8358], \"title\": {\"text\": \"PrevCloseTo200DayAvgPercentDiff\"}}, \"xaxis2\": {\"anchor\": \"y2\", \"domain\": [0.8408, 1.0], \"matches\": \"x2\", \"showline\": false, \"showticklabels\": false, \"ticks\": \"\"}, \"xaxis3\": {\"anchor\": \"y3\", \"domain\": [0.0, 0.8358], \"matches\": \"x\", \"showticklabels\": false}, \"xaxis4\": {\"anchor\": \"y4\", \"domain\": [0.8408, 1.0], \"matches\": \"x2\", \"showline\": false, \"showticklabels\": false, \"ticks\": \"\"}, \"yaxis\": {\"anchor\": \"x\", \"domain\": [0.0, 0.8316], \"title\": {\"text\": \"PrevCloseTo50DayAvgPercentDiff\"}}, \"yaxis2\": {\"anchor\": \"x2\", \"domain\": [0.0, 0.8316], \"matches\": \"y\", \"showticklabels\": false}, \"yaxis3\": {\"anchor\": \"x3\", \"domain\": [0.8416, 1.0], \"matches\": \"y3\", \"showline\": false, \"showticklabels\": false, \"ticks\": \"\"}, \"yaxis4\": {\"anchor\": \"x4\", \"domain\": [0.8416, 1.0], \"matches\": \"y3\", \"showline\": false, \"showticklabels\": false, \"ticks\": \"\"}},                        {\"responsive\": true}                    ).then(function(){\n",
       "                            \n",
       "var gd = document.getElementById('a7af25b5-a9b2-4b34-afa4-a71da4d6b72e');\n",
       "var x = new MutationObserver(function (mutations, observer) {{\n",
       "        var display = window.getComputedStyle(gd).display;\n",
       "        if (!display || display === 'none') {{\n",
       "            console.log([gd, 'removed!']);\n",
       "            Plotly.purge(gd);\n",
       "            observer.disconnect();\n",
       "        }}\n",
       "}});\n",
       "\n",
       "// Listen for the removal of the full notebook cells\n",
       "var notebookContainer = gd.closest('#notebook-container');\n",
       "if (notebookContainer) {{\n",
       "    x.observe(notebookContainer, {childList: true});\n",
       "}}\n",
       "\n",
       "// Listen for the clearing of the current output cell\n",
       "var outputEl = gd.closest('.output');\n",
       "if (outputEl) {{\n",
       "    x.observe(outputEl, {childList: true});\n",
       "}}\n",
       "\n",
       "                        })                };                });            </script>        </div>"
      ]
     },
     "metadata": {},
     "output_type": "display_data"
    },
    {
     "data": {
      "application/vnd.plotly.v1+json": {
       "config": {
        "plotlyServerURL": "https://plot.ly"
       },
       "data": [
        {
         "hovertemplate": "PrevCloseTo200DayAvgPercentDiff=%{x}<br>PrevCloseTo50DayAvgPercentDiff=%{y}<extra></extra>",
         "legendgroup": "",
         "line": {
          "color": "#636efa",
          "dash": "solid"
         },
         "mode": "lines",
         "name": "",
         "orientation": "v",
         "showlegend": false,
         "type": "scatter",
         "x": [
          0.7003116224753461,
          0.012235961168381548,
          0.04339098733489011,
          0.13577586206896552,
          1.6883764509104422,
          0.08342561297039275,
          0.1738355267057332,
          -0.27781947029564213,
          0.945482088957633,
          0.1268335459849086,
          0.2614457214250272,
          1.3234447631367718,
          0.30151690572642975,
          -0.08560084616605834,
          0.5189911302637213,
          -0.050426705771398184,
          -0.11001038832701893,
          0.7202593414392686,
          -0.9342503785966684,
          0.17815384935741285,
          -0.18889158769003145,
          0.2549973931168139,
          0.005173320036784057,
          0.28369903944045394,
          0.062355392217884775,
          0.22307783311525498,
          0.7190324751900994,
          0.002465252809155327,
          0.044251638565107054,
          -0.05971040665687566,
          -0.15060556487469923,
          -0.190527167866139,
          -0.2333774704776238,
          0.3462257100149475,
          0.5499577149062642,
          0.007367437911090846,
          0.06544044988108699,
          0.03877613784262568,
          0.7864383916484339,
          0.4831936339949512,
          0.30001031341515305,
          -0.06399694012090595,
          -0.19892413265007802,
          0.1079333568013765,
          -0.4056240110507878,
          -0.013563215656260397,
          -0.14271487986693687,
          -0.713256357881268,
          -0.2473784578927959,
          -0.19057255245344873
         ],
         "xaxis": "x",
         "y": [
          -0.020755283244072498,
          0.015547872164204168,
          0.01902244368041628,
          -0.4436482444383696,
          0.11980467891721691,
          -0.25844045948853034,
          0.06930956085826745,
          -0.21845035959234116,
          0.2080807914330094,
          -0.12253060613245803,
          -0.3706868899977521,
          0.11310460359872443,
          -0.10582090059329452,
          -0.5781043223381904,
          0.12437825552546844,
          -0.4143668220202208,
          -0.2183642826138401,
          -0.2515576466326437,
          -0.9342503785966684,
          -0.3056370804009284,
          -0.32397109777610966,
          -0.41766480327449795,
          -0.28976186626603806,
          -0.25354212717033653,
          -0.12769971982438155,
          -0.3360160698598016,
          -0.19952965160581349,
          -0.48122456123202073,
          -0.1934576670425936,
          -0.19103974545709157,
          -0.28550945238241965,
          -0.27773905839244906,
          -0.11174615439686386,
          -0.230203872571336,
          -0.03371420583309026,
          -0.23231686640044147,
          -0.42148825993600114,
          -0.3807577927963791,
          0.002232197279966819,
          -0.1501863386634803,
          -0.14878251157099653,
          -0.26352574033331044,
          -0.3131686054889896,
          -0.11839706955185914,
          -0.26201023852324956,
          -0.34522106599294344,
          -0.34017831948411215,
          -0.2305721627564149,
          -0.22468766758053027,
          -0.1350947842945729
         ],
         "yaxis": "y"
        }
       ],
       "layout": {
        "legend": {
         "tracegroupgap": 0
        },
        "margin": {
         "t": 60
        },
        "template": {
         "data": {
          "bar": [
           {
            "error_x": {
             "color": "#2a3f5f"
            },
            "error_y": {
             "color": "#2a3f5f"
            },
            "marker": {
             "line": {
              "color": "#E5ECF6",
              "width": 0.5
             }
            },
            "type": "bar"
           }
          ],
          "barpolar": [
           {
            "marker": {
             "line": {
              "color": "#E5ECF6",
              "width": 0.5
             }
            },
            "type": "barpolar"
           }
          ],
          "carpet": [
           {
            "aaxis": {
             "endlinecolor": "#2a3f5f",
             "gridcolor": "white",
             "linecolor": "white",
             "minorgridcolor": "white",
             "startlinecolor": "#2a3f5f"
            },
            "baxis": {
             "endlinecolor": "#2a3f5f",
             "gridcolor": "white",
             "linecolor": "white",
             "minorgridcolor": "white",
             "startlinecolor": "#2a3f5f"
            },
            "type": "carpet"
           }
          ],
          "choropleth": [
           {
            "colorbar": {
             "outlinewidth": 0,
             "ticks": ""
            },
            "type": "choropleth"
           }
          ],
          "contour": [
           {
            "colorbar": {
             "outlinewidth": 0,
             "ticks": ""
            },
            "colorscale": [
             [
              0,
              "#0d0887"
             ],
             [
              0.1111111111111111,
              "#46039f"
             ],
             [
              0.2222222222222222,
              "#7201a8"
             ],
             [
              0.3333333333333333,
              "#9c179e"
             ],
             [
              0.4444444444444444,
              "#bd3786"
             ],
             [
              0.5555555555555556,
              "#d8576b"
             ],
             [
              0.6666666666666666,
              "#ed7953"
             ],
             [
              0.7777777777777778,
              "#fb9f3a"
             ],
             [
              0.8888888888888888,
              "#fdca26"
             ],
             [
              1,
              "#f0f921"
             ]
            ],
            "type": "contour"
           }
          ],
          "contourcarpet": [
           {
            "colorbar": {
             "outlinewidth": 0,
             "ticks": ""
            },
            "type": "contourcarpet"
           }
          ],
          "heatmap": [
           {
            "colorbar": {
             "outlinewidth": 0,
             "ticks": ""
            },
            "colorscale": [
             [
              0,
              "#0d0887"
             ],
             [
              0.1111111111111111,
              "#46039f"
             ],
             [
              0.2222222222222222,
              "#7201a8"
             ],
             [
              0.3333333333333333,
              "#9c179e"
             ],
             [
              0.4444444444444444,
              "#bd3786"
             ],
             [
              0.5555555555555556,
              "#d8576b"
             ],
             [
              0.6666666666666666,
              "#ed7953"
             ],
             [
              0.7777777777777778,
              "#fb9f3a"
             ],
             [
              0.8888888888888888,
              "#fdca26"
             ],
             [
              1,
              "#f0f921"
             ]
            ],
            "type": "heatmap"
           }
          ],
          "heatmapgl": [
           {
            "colorbar": {
             "outlinewidth": 0,
             "ticks": ""
            },
            "colorscale": [
             [
              0,
              "#0d0887"
             ],
             [
              0.1111111111111111,
              "#46039f"
             ],
             [
              0.2222222222222222,
              "#7201a8"
             ],
             [
              0.3333333333333333,
              "#9c179e"
             ],
             [
              0.4444444444444444,
              "#bd3786"
             ],
             [
              0.5555555555555556,
              "#d8576b"
             ],
             [
              0.6666666666666666,
              "#ed7953"
             ],
             [
              0.7777777777777778,
              "#fb9f3a"
             ],
             [
              0.8888888888888888,
              "#fdca26"
             ],
             [
              1,
              "#f0f921"
             ]
            ],
            "type": "heatmapgl"
           }
          ],
          "histogram": [
           {
            "marker": {
             "colorbar": {
              "outlinewidth": 0,
              "ticks": ""
             }
            },
            "type": "histogram"
           }
          ],
          "histogram2d": [
           {
            "colorbar": {
             "outlinewidth": 0,
             "ticks": ""
            },
            "colorscale": [
             [
              0,
              "#0d0887"
             ],
             [
              0.1111111111111111,
              "#46039f"
             ],
             [
              0.2222222222222222,
              "#7201a8"
             ],
             [
              0.3333333333333333,
              "#9c179e"
             ],
             [
              0.4444444444444444,
              "#bd3786"
             ],
             [
              0.5555555555555556,
              "#d8576b"
             ],
             [
              0.6666666666666666,
              "#ed7953"
             ],
             [
              0.7777777777777778,
              "#fb9f3a"
             ],
             [
              0.8888888888888888,
              "#fdca26"
             ],
             [
              1,
              "#f0f921"
             ]
            ],
            "type": "histogram2d"
           }
          ],
          "histogram2dcontour": [
           {
            "colorbar": {
             "outlinewidth": 0,
             "ticks": ""
            },
            "colorscale": [
             [
              0,
              "#0d0887"
             ],
             [
              0.1111111111111111,
              "#46039f"
             ],
             [
              0.2222222222222222,
              "#7201a8"
             ],
             [
              0.3333333333333333,
              "#9c179e"
             ],
             [
              0.4444444444444444,
              "#bd3786"
             ],
             [
              0.5555555555555556,
              "#d8576b"
             ],
             [
              0.6666666666666666,
              "#ed7953"
             ],
             [
              0.7777777777777778,
              "#fb9f3a"
             ],
             [
              0.8888888888888888,
              "#fdca26"
             ],
             [
              1,
              "#f0f921"
             ]
            ],
            "type": "histogram2dcontour"
           }
          ],
          "mesh3d": [
           {
            "colorbar": {
             "outlinewidth": 0,
             "ticks": ""
            },
            "type": "mesh3d"
           }
          ],
          "parcoords": [
           {
            "line": {
             "colorbar": {
              "outlinewidth": 0,
              "ticks": ""
             }
            },
            "type": "parcoords"
           }
          ],
          "pie": [
           {
            "automargin": true,
            "type": "pie"
           }
          ],
          "scatter": [
           {
            "marker": {
             "colorbar": {
              "outlinewidth": 0,
              "ticks": ""
             }
            },
            "type": "scatter"
           }
          ],
          "scatter3d": [
           {
            "line": {
             "colorbar": {
              "outlinewidth": 0,
              "ticks": ""
             }
            },
            "marker": {
             "colorbar": {
              "outlinewidth": 0,
              "ticks": ""
             }
            },
            "type": "scatter3d"
           }
          ],
          "scattercarpet": [
           {
            "marker": {
             "colorbar": {
              "outlinewidth": 0,
              "ticks": ""
             }
            },
            "type": "scattercarpet"
           }
          ],
          "scattergeo": [
           {
            "marker": {
             "colorbar": {
              "outlinewidth": 0,
              "ticks": ""
             }
            },
            "type": "scattergeo"
           }
          ],
          "scattergl": [
           {
            "marker": {
             "colorbar": {
              "outlinewidth": 0,
              "ticks": ""
             }
            },
            "type": "scattergl"
           }
          ],
          "scattermapbox": [
           {
            "marker": {
             "colorbar": {
              "outlinewidth": 0,
              "ticks": ""
             }
            },
            "type": "scattermapbox"
           }
          ],
          "scatterpolar": [
           {
            "marker": {
             "colorbar": {
              "outlinewidth": 0,
              "ticks": ""
             }
            },
            "type": "scatterpolar"
           }
          ],
          "scatterpolargl": [
           {
            "marker": {
             "colorbar": {
              "outlinewidth": 0,
              "ticks": ""
             }
            },
            "type": "scatterpolargl"
           }
          ],
          "scatterternary": [
           {
            "marker": {
             "colorbar": {
              "outlinewidth": 0,
              "ticks": ""
             }
            },
            "type": "scatterternary"
           }
          ],
          "surface": [
           {
            "colorbar": {
             "outlinewidth": 0,
             "ticks": ""
            },
            "colorscale": [
             [
              0,
              "#0d0887"
             ],
             [
              0.1111111111111111,
              "#46039f"
             ],
             [
              0.2222222222222222,
              "#7201a8"
             ],
             [
              0.3333333333333333,
              "#9c179e"
             ],
             [
              0.4444444444444444,
              "#bd3786"
             ],
             [
              0.5555555555555556,
              "#d8576b"
             ],
             [
              0.6666666666666666,
              "#ed7953"
             ],
             [
              0.7777777777777778,
              "#fb9f3a"
             ],
             [
              0.8888888888888888,
              "#fdca26"
             ],
             [
              1,
              "#f0f921"
             ]
            ],
            "type": "surface"
           }
          ],
          "table": [
           {
            "cells": {
             "fill": {
              "color": "#EBF0F8"
             },
             "line": {
              "color": "white"
             }
            },
            "header": {
             "fill": {
              "color": "#C8D4E3"
             },
             "line": {
              "color": "white"
             }
            },
            "type": "table"
           }
          ]
         },
         "layout": {
          "annotationdefaults": {
           "arrowcolor": "#2a3f5f",
           "arrowhead": 0,
           "arrowwidth": 1
          },
          "autotypenumbers": "strict",
          "coloraxis": {
           "colorbar": {
            "outlinewidth": 0,
            "ticks": ""
           }
          },
          "colorscale": {
           "diverging": [
            [
             0,
             "#8e0152"
            ],
            [
             0.1,
             "#c51b7d"
            ],
            [
             0.2,
             "#de77ae"
            ],
            [
             0.3,
             "#f1b6da"
            ],
            [
             0.4,
             "#fde0ef"
            ],
            [
             0.5,
             "#f7f7f7"
            ],
            [
             0.6,
             "#e6f5d0"
            ],
            [
             0.7,
             "#b8e186"
            ],
            [
             0.8,
             "#7fbc41"
            ],
            [
             0.9,
             "#4d9221"
            ],
            [
             1,
             "#276419"
            ]
           ],
           "sequential": [
            [
             0,
             "#0d0887"
            ],
            [
             0.1111111111111111,
             "#46039f"
            ],
            [
             0.2222222222222222,
             "#7201a8"
            ],
            [
             0.3333333333333333,
             "#9c179e"
            ],
            [
             0.4444444444444444,
             "#bd3786"
            ],
            [
             0.5555555555555556,
             "#d8576b"
            ],
            [
             0.6666666666666666,
             "#ed7953"
            ],
            [
             0.7777777777777778,
             "#fb9f3a"
            ],
            [
             0.8888888888888888,
             "#fdca26"
            ],
            [
             1,
             "#f0f921"
            ]
           ],
           "sequentialminus": [
            [
             0,
             "#0d0887"
            ],
            [
             0.1111111111111111,
             "#46039f"
            ],
            [
             0.2222222222222222,
             "#7201a8"
            ],
            [
             0.3333333333333333,
             "#9c179e"
            ],
            [
             0.4444444444444444,
             "#bd3786"
            ],
            [
             0.5555555555555556,
             "#d8576b"
            ],
            [
             0.6666666666666666,
             "#ed7953"
            ],
            [
             0.7777777777777778,
             "#fb9f3a"
            ],
            [
             0.8888888888888888,
             "#fdca26"
            ],
            [
             1,
             "#f0f921"
            ]
           ]
          },
          "colorway": [
           "#636efa",
           "#EF553B",
           "#00cc96",
           "#ab63fa",
           "#FFA15A",
           "#19d3f3",
           "#FF6692",
           "#B6E880",
           "#FF97FF",
           "#FECB52"
          ],
          "font": {
           "color": "#2a3f5f"
          },
          "geo": {
           "bgcolor": "white",
           "lakecolor": "white",
           "landcolor": "#E5ECF6",
           "showlakes": true,
           "showland": true,
           "subunitcolor": "white"
          },
          "hoverlabel": {
           "align": "left"
          },
          "hovermode": "closest",
          "mapbox": {
           "style": "light"
          },
          "paper_bgcolor": "white",
          "plot_bgcolor": "#E5ECF6",
          "polar": {
           "angularaxis": {
            "gridcolor": "white",
            "linecolor": "white",
            "ticks": ""
           },
           "bgcolor": "#E5ECF6",
           "radialaxis": {
            "gridcolor": "white",
            "linecolor": "white",
            "ticks": ""
           }
          },
          "scene": {
           "xaxis": {
            "backgroundcolor": "#E5ECF6",
            "gridcolor": "white",
            "gridwidth": 2,
            "linecolor": "white",
            "showbackground": true,
            "ticks": "",
            "zerolinecolor": "white"
           },
           "yaxis": {
            "backgroundcolor": "#E5ECF6",
            "gridcolor": "white",
            "gridwidth": 2,
            "linecolor": "white",
            "showbackground": true,
            "ticks": "",
            "zerolinecolor": "white"
           },
           "zaxis": {
            "backgroundcolor": "#E5ECF6",
            "gridcolor": "white",
            "gridwidth": 2,
            "linecolor": "white",
            "showbackground": true,
            "ticks": "",
            "zerolinecolor": "white"
           }
          },
          "shapedefaults": {
           "line": {
            "color": "#2a3f5f"
           }
          },
          "ternary": {
           "aaxis": {
            "gridcolor": "white",
            "linecolor": "white",
            "ticks": ""
           },
           "baxis": {
            "gridcolor": "white",
            "linecolor": "white",
            "ticks": ""
           },
           "bgcolor": "#E5ECF6",
           "caxis": {
            "gridcolor": "white",
            "linecolor": "white",
            "ticks": ""
           }
          },
          "title": {
           "x": 0.05
          },
          "xaxis": {
           "automargin": true,
           "gridcolor": "white",
           "linecolor": "white",
           "ticks": "",
           "title": {
            "standoff": 15
           },
           "zerolinecolor": "white",
           "zerolinewidth": 2
          },
          "yaxis": {
           "automargin": true,
           "gridcolor": "white",
           "linecolor": "white",
           "ticks": "",
           "title": {
            "standoff": 15
           },
           "zerolinecolor": "white",
           "zerolinewidth": 2
          }
         }
        },
        "xaxis": {
         "anchor": "y",
         "domain": [
          0,
          1
         ],
         "title": {
          "text": "PrevCloseTo200DayAvgPercentDiff"
         }
        },
        "yaxis": {
         "anchor": "x",
         "domain": [
          0,
          1
         ],
         "title": {
          "text": "PrevCloseTo50DayAvgPercentDiff"
         }
        }
       }
      },
      "text/html": [
       "<div>                            <div id=\"953cdfe1-8867-442d-a9e5-5c22d414b79e\" class=\"plotly-graph-div\" style=\"height:525px; width:100%;\"></div>            <script type=\"text/javascript\">                require([\"plotly\"], function(Plotly) {                    window.PLOTLYENV=window.PLOTLYENV || {};                                    if (document.getElementById(\"953cdfe1-8867-442d-a9e5-5c22d414b79e\")) {                    Plotly.newPlot(                        \"953cdfe1-8867-442d-a9e5-5c22d414b79e\",                        [{\"hovertemplate\": \"PrevCloseTo200DayAvgPercentDiff=%{x}<br>PrevCloseTo50DayAvgPercentDiff=%{y}<extra></extra>\", \"legendgroup\": \"\", \"line\": {\"color\": \"#636efa\", \"dash\": \"solid\"}, \"mode\": \"lines\", \"name\": \"\", \"orientation\": \"v\", \"showlegend\": false, \"type\": \"scatter\", \"x\": [0.7003116224753461, 0.012235961168381548, 0.04339098733489011, 0.13577586206896552, 1.6883764509104422, 0.08342561297039275, 0.1738355267057332, -0.27781947029564213, 0.945482088957633, 0.1268335459849086, 0.2614457214250272, 1.3234447631367718, 0.30151690572642975, -0.08560084616605834, 0.5189911302637213, -0.050426705771398184, -0.11001038832701893, 0.7202593414392686, -0.9342503785966684, 0.17815384935741285, -0.18889158769003145, 0.2549973931168139, 0.005173320036784057, 0.28369903944045394, 0.062355392217884775, 0.22307783311525498, 0.7190324751900994, 0.002465252809155327, 0.044251638565107054, -0.05971040665687566, -0.15060556487469923, -0.190527167866139, -0.2333774704776238, 0.3462257100149475, 0.5499577149062642, 0.007367437911090846, 0.06544044988108699, 0.03877613784262568, 0.7864383916484339, 0.4831936339949512, 0.30001031341515305, -0.06399694012090595, -0.19892413265007802, 0.1079333568013765, -0.4056240110507878, -0.013563215656260397, -0.14271487986693687, -0.713256357881268, -0.2473784578927959, -0.19057255245344873], \"xaxis\": \"x\", \"y\": [-0.020755283244072498, 0.015547872164204168, 0.01902244368041628, -0.4436482444383696, 0.11980467891721691, -0.25844045948853034, 0.06930956085826745, -0.21845035959234116, 0.2080807914330094, -0.12253060613245803, -0.3706868899977521, 0.11310460359872443, -0.10582090059329452, -0.5781043223381904, 0.12437825552546844, -0.4143668220202208, -0.2183642826138401, -0.2515576466326437, -0.9342503785966684, -0.3056370804009284, -0.32397109777610966, -0.41766480327449795, -0.28976186626603806, -0.25354212717033653, -0.12769971982438155, -0.3360160698598016, -0.19952965160581349, -0.48122456123202073, -0.1934576670425936, -0.19103974545709157, -0.28550945238241965, -0.27773905839244906, -0.11174615439686386, -0.230203872571336, -0.03371420583309026, -0.23231686640044147, -0.42148825993600114, -0.3807577927963791, 0.002232197279966819, -0.1501863386634803, -0.14878251157099653, -0.26352574033331044, -0.3131686054889896, -0.11839706955185914, -0.26201023852324956, -0.34522106599294344, -0.34017831948411215, -0.2305721627564149, -0.22468766758053027, -0.1350947842945729], \"yaxis\": \"y\"}],                        {\"legend\": {\"tracegroupgap\": 0}, \"margin\": {\"t\": 60}, \"template\": {\"data\": {\"bar\": [{\"error_x\": {\"color\": \"#2a3f5f\"}, \"error_y\": {\"color\": \"#2a3f5f\"}, \"marker\": {\"line\": {\"color\": \"#E5ECF6\", \"width\": 0.5}}, \"type\": \"bar\"}], \"barpolar\": [{\"marker\": {\"line\": {\"color\": \"#E5ECF6\", \"width\": 0.5}}, \"type\": \"barpolar\"}], \"carpet\": [{\"aaxis\": {\"endlinecolor\": \"#2a3f5f\", \"gridcolor\": \"white\", \"linecolor\": \"white\", \"minorgridcolor\": \"white\", \"startlinecolor\": \"#2a3f5f\"}, \"baxis\": {\"endlinecolor\": \"#2a3f5f\", \"gridcolor\": \"white\", \"linecolor\": \"white\", \"minorgridcolor\": \"white\", \"startlinecolor\": \"#2a3f5f\"}, \"type\": \"carpet\"}], \"choropleth\": [{\"colorbar\": {\"outlinewidth\": 0, \"ticks\": \"\"}, \"type\": \"choropleth\"}], \"contour\": [{\"colorbar\": {\"outlinewidth\": 0, \"ticks\": \"\"}, \"colorscale\": [[0.0, \"#0d0887\"], [0.1111111111111111, \"#46039f\"], [0.2222222222222222, \"#7201a8\"], [0.3333333333333333, \"#9c179e\"], [0.4444444444444444, \"#bd3786\"], [0.5555555555555556, \"#d8576b\"], [0.6666666666666666, \"#ed7953\"], [0.7777777777777778, \"#fb9f3a\"], [0.8888888888888888, \"#fdca26\"], [1.0, \"#f0f921\"]], \"type\": \"contour\"}], \"contourcarpet\": [{\"colorbar\": {\"outlinewidth\": 0, \"ticks\": \"\"}, \"type\": \"contourcarpet\"}], \"heatmap\": [{\"colorbar\": {\"outlinewidth\": 0, \"ticks\": \"\"}, \"colorscale\": [[0.0, \"#0d0887\"], [0.1111111111111111, \"#46039f\"], [0.2222222222222222, \"#7201a8\"], [0.3333333333333333, \"#9c179e\"], [0.4444444444444444, \"#bd3786\"], [0.5555555555555556, \"#d8576b\"], [0.6666666666666666, \"#ed7953\"], [0.7777777777777778, \"#fb9f3a\"], [0.8888888888888888, \"#fdca26\"], [1.0, \"#f0f921\"]], \"type\": \"heatmap\"}], \"heatmapgl\": [{\"colorbar\": {\"outlinewidth\": 0, \"ticks\": \"\"}, \"colorscale\": [[0.0, \"#0d0887\"], [0.1111111111111111, \"#46039f\"], [0.2222222222222222, \"#7201a8\"], [0.3333333333333333, \"#9c179e\"], [0.4444444444444444, \"#bd3786\"], [0.5555555555555556, \"#d8576b\"], [0.6666666666666666, \"#ed7953\"], [0.7777777777777778, \"#fb9f3a\"], [0.8888888888888888, \"#fdca26\"], [1.0, \"#f0f921\"]], \"type\": \"heatmapgl\"}], \"histogram\": [{\"marker\": {\"colorbar\": {\"outlinewidth\": 0, \"ticks\": \"\"}}, \"type\": \"histogram\"}], \"histogram2d\": [{\"colorbar\": {\"outlinewidth\": 0, \"ticks\": \"\"}, \"colorscale\": [[0.0, \"#0d0887\"], [0.1111111111111111, \"#46039f\"], [0.2222222222222222, \"#7201a8\"], [0.3333333333333333, \"#9c179e\"], [0.4444444444444444, \"#bd3786\"], [0.5555555555555556, \"#d8576b\"], [0.6666666666666666, \"#ed7953\"], [0.7777777777777778, \"#fb9f3a\"], [0.8888888888888888, \"#fdca26\"], [1.0, \"#f0f921\"]], \"type\": \"histogram2d\"}], \"histogram2dcontour\": [{\"colorbar\": {\"outlinewidth\": 0, \"ticks\": \"\"}, \"colorscale\": [[0.0, \"#0d0887\"], [0.1111111111111111, \"#46039f\"], [0.2222222222222222, \"#7201a8\"], [0.3333333333333333, \"#9c179e\"], [0.4444444444444444, \"#bd3786\"], [0.5555555555555556, \"#d8576b\"], [0.6666666666666666, \"#ed7953\"], [0.7777777777777778, \"#fb9f3a\"], [0.8888888888888888, \"#fdca26\"], [1.0, \"#f0f921\"]], \"type\": \"histogram2dcontour\"}], \"mesh3d\": [{\"colorbar\": {\"outlinewidth\": 0, \"ticks\": \"\"}, \"type\": \"mesh3d\"}], \"parcoords\": [{\"line\": {\"colorbar\": {\"outlinewidth\": 0, \"ticks\": \"\"}}, \"type\": \"parcoords\"}], \"pie\": [{\"automargin\": true, \"type\": \"pie\"}], \"scatter\": [{\"marker\": {\"colorbar\": {\"outlinewidth\": 0, \"ticks\": \"\"}}, \"type\": \"scatter\"}], \"scatter3d\": [{\"line\": {\"colorbar\": {\"outlinewidth\": 0, \"ticks\": \"\"}}, \"marker\": {\"colorbar\": {\"outlinewidth\": 0, \"ticks\": \"\"}}, \"type\": \"scatter3d\"}], \"scattercarpet\": [{\"marker\": {\"colorbar\": {\"outlinewidth\": 0, \"ticks\": \"\"}}, \"type\": \"scattercarpet\"}], \"scattergeo\": [{\"marker\": {\"colorbar\": {\"outlinewidth\": 0, \"ticks\": \"\"}}, \"type\": \"scattergeo\"}], \"scattergl\": [{\"marker\": {\"colorbar\": {\"outlinewidth\": 0, \"ticks\": \"\"}}, \"type\": \"scattergl\"}], \"scattermapbox\": [{\"marker\": {\"colorbar\": {\"outlinewidth\": 0, \"ticks\": \"\"}}, \"type\": \"scattermapbox\"}], \"scatterpolar\": [{\"marker\": {\"colorbar\": {\"outlinewidth\": 0, \"ticks\": \"\"}}, \"type\": \"scatterpolar\"}], \"scatterpolargl\": [{\"marker\": {\"colorbar\": {\"outlinewidth\": 0, \"ticks\": \"\"}}, \"type\": \"scatterpolargl\"}], \"scatterternary\": [{\"marker\": {\"colorbar\": {\"outlinewidth\": 0, \"ticks\": \"\"}}, \"type\": \"scatterternary\"}], \"surface\": [{\"colorbar\": {\"outlinewidth\": 0, \"ticks\": \"\"}, \"colorscale\": [[0.0, \"#0d0887\"], [0.1111111111111111, \"#46039f\"], [0.2222222222222222, \"#7201a8\"], [0.3333333333333333, \"#9c179e\"], [0.4444444444444444, \"#bd3786\"], [0.5555555555555556, \"#d8576b\"], [0.6666666666666666, \"#ed7953\"], [0.7777777777777778, \"#fb9f3a\"], [0.8888888888888888, \"#fdca26\"], [1.0, \"#f0f921\"]], \"type\": \"surface\"}], \"table\": [{\"cells\": {\"fill\": {\"color\": \"#EBF0F8\"}, \"line\": {\"color\": \"white\"}}, \"header\": {\"fill\": {\"color\": \"#C8D4E3\"}, \"line\": {\"color\": \"white\"}}, \"type\": \"table\"}]}, \"layout\": {\"annotationdefaults\": {\"arrowcolor\": \"#2a3f5f\", \"arrowhead\": 0, \"arrowwidth\": 1}, \"autotypenumbers\": \"strict\", \"coloraxis\": {\"colorbar\": {\"outlinewidth\": 0, \"ticks\": \"\"}}, \"colorscale\": {\"diverging\": [[0, \"#8e0152\"], [0.1, \"#c51b7d\"], [0.2, \"#de77ae\"], [0.3, \"#f1b6da\"], [0.4, \"#fde0ef\"], [0.5, \"#f7f7f7\"], [0.6, \"#e6f5d0\"], [0.7, \"#b8e186\"], [0.8, \"#7fbc41\"], [0.9, \"#4d9221\"], [1, \"#276419\"]], \"sequential\": [[0.0, \"#0d0887\"], [0.1111111111111111, \"#46039f\"], [0.2222222222222222, \"#7201a8\"], [0.3333333333333333, \"#9c179e\"], [0.4444444444444444, \"#bd3786\"], [0.5555555555555556, \"#d8576b\"], [0.6666666666666666, \"#ed7953\"], [0.7777777777777778, \"#fb9f3a\"], [0.8888888888888888, \"#fdca26\"], [1.0, \"#f0f921\"]], \"sequentialminus\": [[0.0, \"#0d0887\"], [0.1111111111111111, \"#46039f\"], [0.2222222222222222, \"#7201a8\"], [0.3333333333333333, \"#9c179e\"], [0.4444444444444444, \"#bd3786\"], [0.5555555555555556, \"#d8576b\"], [0.6666666666666666, \"#ed7953\"], [0.7777777777777778, \"#fb9f3a\"], [0.8888888888888888, \"#fdca26\"], [1.0, \"#f0f921\"]]}, \"colorway\": [\"#636efa\", \"#EF553B\", \"#00cc96\", \"#ab63fa\", \"#FFA15A\", \"#19d3f3\", \"#FF6692\", \"#B6E880\", \"#FF97FF\", \"#FECB52\"], \"font\": {\"color\": \"#2a3f5f\"}, \"geo\": {\"bgcolor\": \"white\", \"lakecolor\": \"white\", \"landcolor\": \"#E5ECF6\", \"showlakes\": true, \"showland\": true, \"subunitcolor\": \"white\"}, \"hoverlabel\": {\"align\": \"left\"}, \"hovermode\": \"closest\", \"mapbox\": {\"style\": \"light\"}, \"paper_bgcolor\": \"white\", \"plot_bgcolor\": \"#E5ECF6\", \"polar\": {\"angularaxis\": {\"gridcolor\": \"white\", \"linecolor\": \"white\", \"ticks\": \"\"}, \"bgcolor\": \"#E5ECF6\", \"radialaxis\": {\"gridcolor\": \"white\", \"linecolor\": \"white\", \"ticks\": \"\"}}, \"scene\": {\"xaxis\": {\"backgroundcolor\": \"#E5ECF6\", \"gridcolor\": \"white\", \"gridwidth\": 2, \"linecolor\": \"white\", \"showbackground\": true, \"ticks\": \"\", \"zerolinecolor\": \"white\"}, \"yaxis\": {\"backgroundcolor\": \"#E5ECF6\", \"gridcolor\": \"white\", \"gridwidth\": 2, \"linecolor\": \"white\", \"showbackground\": true, \"ticks\": \"\", \"zerolinecolor\": \"white\"}, \"zaxis\": {\"backgroundcolor\": \"#E5ECF6\", \"gridcolor\": \"white\", \"gridwidth\": 2, \"linecolor\": \"white\", \"showbackground\": true, \"ticks\": \"\", \"zerolinecolor\": \"white\"}}, \"shapedefaults\": {\"line\": {\"color\": \"#2a3f5f\"}}, \"ternary\": {\"aaxis\": {\"gridcolor\": \"white\", \"linecolor\": \"white\", \"ticks\": \"\"}, \"baxis\": {\"gridcolor\": \"white\", \"linecolor\": \"white\", \"ticks\": \"\"}, \"bgcolor\": \"#E5ECF6\", \"caxis\": {\"gridcolor\": \"white\", \"linecolor\": \"white\", \"ticks\": \"\"}}, \"title\": {\"x\": 0.05}, \"xaxis\": {\"automargin\": true, \"gridcolor\": \"white\", \"linecolor\": \"white\", \"ticks\": \"\", \"title\": {\"standoff\": 15}, \"zerolinecolor\": \"white\", \"zerolinewidth\": 2}, \"yaxis\": {\"automargin\": true, \"gridcolor\": \"white\", \"linecolor\": \"white\", \"ticks\": \"\", \"title\": {\"standoff\": 15}, \"zerolinecolor\": \"white\", \"zerolinewidth\": 2}}}, \"xaxis\": {\"anchor\": \"y\", \"domain\": [0.0, 1.0], \"title\": {\"text\": \"PrevCloseTo200DayAvgPercentDiff\"}}, \"yaxis\": {\"anchor\": \"x\", \"domain\": [0.0, 1.0], \"title\": {\"text\": \"PrevCloseTo50DayAvgPercentDiff\"}}},                        {\"responsive\": true}                    ).then(function(){\n",
       "                            \n",
       "var gd = document.getElementById('953cdfe1-8867-442d-a9e5-5c22d414b79e');\n",
       "var x = new MutationObserver(function (mutations, observer) {{\n",
       "        var display = window.getComputedStyle(gd).display;\n",
       "        if (!display || display === 'none') {{\n",
       "            console.log([gd, 'removed!']);\n",
       "            Plotly.purge(gd);\n",
       "            observer.disconnect();\n",
       "        }}\n",
       "}});\n",
       "\n",
       "// Listen for the removal of the full notebook cells\n",
       "var notebookContainer = gd.closest('#notebook-container');\n",
       "if (notebookContainer) {{\n",
       "    x.observe(notebookContainer, {childList: true});\n",
       "}}\n",
       "\n",
       "// Listen for the clearing of the current output cell\n",
       "var outputEl = gd.closest('.output');\n",
       "if (outputEl) {{\n",
       "    x.observe(outputEl, {childList: true});\n",
       "}}\n",
       "\n",
       "                        })                };                });            </script>        </div>"
      ]
     },
     "metadata": {},
     "output_type": "display_data"
    }
   ],
   "source": [
    "fig.show()\n",
    "fig_2.show()"
   ]
  },
  {
   "cell_type": "code",
   "execution_count": null,
   "id": "manufactured-alabama",
   "metadata": {},
   "outputs": [],
   "source": []
  },
  {
   "cell_type": "code",
   "execution_count": 96,
   "id": "expired-lighting",
   "metadata": {},
   "outputs": [
    {
     "name": "stdout",
     "output_type": "stream",
     "text": [
      "Help on function iplot in module chart_studio.plotly.plotly:\n",
      "\n",
      "iplot(figure_or_data, **plot_options)\n",
      "    Create a unique url for this plot in Plotly and open in IPython.\n",
      "    \n",
      "    plot_options keyword arguments:\n",
      "    filename (string) -- the name that will be associated with this figure\n",
      "    sharing ('public' | 'private' | 'secret') -- Toggle who can view this graph\n",
      "        - 'public': Anyone can view this graph. It will appear in your profile\n",
      "                    and can appear in search engines. You do not need to be\n",
      "                    logged in to Plotly to view this chart.\n",
      "        - 'private': Only you can view this plot. It will not appear in the\n",
      "                     Plotly feed, your profile, or search engines. You must be\n",
      "                     logged in to Plotly to view this graph. You can privately\n",
      "                     share this graph with other Plotly users in your online\n",
      "                     Plotly account and they will need to be logged in to\n",
      "                     view this plot.\n",
      "        - 'secret': Anyone with this secret link can view this chart. It will\n",
      "                    not appear in the Plotly feed, your profile, or search\n",
      "                    engines. If it is embedded inside a webpage or an IPython\n",
      "                    notebook, anybody who is viewing that page will be able to\n",
      "                    view the graph. You do not need to be logged in to view\n",
      "                    this plot.\n",
      "    world_readable (default=True) -- Deprecated: use \"sharing\".\n",
      "                                     Make this figure private/public\n",
      "\n"
     ]
    }
   ],
   "source": [
    "help(py.iplot)\n",
    "py.iplot(top_50,filename='top_50_chart')"
   ]
  },
  {
   "cell_type": "code",
   "execution_count": 97,
   "id": "lonely-stocks",
   "metadata": {},
   "outputs": [
    {
     "ename": "PlotlyError",
     "evalue": "The `figure_or_data` positional argument must be `dict`-like, `list`-like, or an instance of plotly.graph_objs.Figure",
     "output_type": "error",
     "traceback": [
      "\u001b[1;31m---------------------------------------------------------------------------\u001b[0m",
      "\u001b[1;31mPlotlyError\u001b[0m                               Traceback (most recent call last)",
      "\u001b[1;32m<ipython-input-97-c848f20afe6b>\u001b[0m in \u001b[0;36m<module>\u001b[1;34m\u001b[0m\n\u001b[1;32m----> 1\u001b[1;33m \u001b[0mpy\u001b[0m\u001b[1;33m.\u001b[0m\u001b[0miplot\u001b[0m\u001b[1;33m(\u001b[0m\u001b[0mtop_50\u001b[0m\u001b[1;33m,\u001b[0m\u001b[0mfilename\u001b[0m\u001b[1;33m=\u001b[0m\u001b[1;34m'top_50_chart'\u001b[0m\u001b[1;33m)\u001b[0m\u001b[1;33m\u001b[0m\u001b[1;33m\u001b[0m\u001b[0m\n\u001b[0m",
      "\u001b[1;32m~\\Anaconda4\\lib\\site-packages\\chart_studio\\plotly\\plotly.py\u001b[0m in \u001b[0;36miplot\u001b[1;34m(figure_or_data, **plot_options)\u001b[0m\n\u001b[0;32m    133\u001b[0m     \u001b[1;32mif\u001b[0m \u001b[1;34m\"auto_open\"\u001b[0m \u001b[1;32mnot\u001b[0m \u001b[1;32min\u001b[0m \u001b[0mplot_options\u001b[0m\u001b[1;33m:\u001b[0m\u001b[1;33m\u001b[0m\u001b[1;33m\u001b[0m\u001b[0m\n\u001b[0;32m    134\u001b[0m         \u001b[0mplot_options\u001b[0m\u001b[1;33m[\u001b[0m\u001b[1;34m\"auto_open\"\u001b[0m\u001b[1;33m]\u001b[0m \u001b[1;33m=\u001b[0m \u001b[1;32mFalse\u001b[0m\u001b[1;33m\u001b[0m\u001b[1;33m\u001b[0m\u001b[0m\n\u001b[1;32m--> 135\u001b[1;33m     \u001b[0murl\u001b[0m \u001b[1;33m=\u001b[0m \u001b[0mplot\u001b[0m\u001b[1;33m(\u001b[0m\u001b[0mfigure_or_data\u001b[0m\u001b[1;33m,\u001b[0m \u001b[1;33m**\u001b[0m\u001b[0mplot_options\u001b[0m\u001b[1;33m)\u001b[0m\u001b[1;33m\u001b[0m\u001b[1;33m\u001b[0m\u001b[0m\n\u001b[0m\u001b[0;32m    136\u001b[0m \u001b[1;33m\u001b[0m\u001b[0m\n\u001b[0;32m    137\u001b[0m     \u001b[1;32mif\u001b[0m \u001b[0misinstance\u001b[0m\u001b[1;33m(\u001b[0m\u001b[0mfigure_or_data\u001b[0m\u001b[1;33m,\u001b[0m \u001b[0mdict\u001b[0m\u001b[1;33m)\u001b[0m\u001b[1;33m:\u001b[0m\u001b[1;33m\u001b[0m\u001b[1;33m\u001b[0m\u001b[0m\n",
      "\u001b[1;32m~\\Anaconda4\\lib\\site-packages\\chart_studio\\plotly\\plotly.py\u001b[0m in \u001b[0;36mplot\u001b[1;34m(figure_or_data, validate, **plot_options)\u001b[0m\n\u001b[0;32m    195\u001b[0m     \u001b[1;32mimport\u001b[0m \u001b[0mplotly\u001b[0m\u001b[1;33m.\u001b[0m\u001b[0mtools\u001b[0m\u001b[1;33m\u001b[0m\u001b[1;33m\u001b[0m\u001b[0m\n\u001b[0;32m    196\u001b[0m \u001b[1;33m\u001b[0m\u001b[0m\n\u001b[1;32m--> 197\u001b[1;33m     \u001b[0mfigure\u001b[0m \u001b[1;33m=\u001b[0m \u001b[0mplotly\u001b[0m\u001b[1;33m.\u001b[0m\u001b[0mtools\u001b[0m\u001b[1;33m.\u001b[0m\u001b[0mreturn_figure_from_figure_or_data\u001b[0m\u001b[1;33m(\u001b[0m\u001b[0mfigure_or_data\u001b[0m\u001b[1;33m,\u001b[0m \u001b[0mvalidate\u001b[0m\u001b[1;33m)\u001b[0m\u001b[1;33m\u001b[0m\u001b[1;33m\u001b[0m\u001b[0m\n\u001b[0m\u001b[0;32m    198\u001b[0m     \u001b[1;32mfor\u001b[0m \u001b[0mentry\u001b[0m \u001b[1;32min\u001b[0m \u001b[0mfigure\u001b[0m\u001b[1;33m[\u001b[0m\u001b[1;34m\"data\"\u001b[0m\u001b[1;33m]\u001b[0m\u001b[1;33m:\u001b[0m\u001b[1;33m\u001b[0m\u001b[1;33m\u001b[0m\u001b[0m\n\u001b[0;32m    199\u001b[0m         \u001b[1;32mif\u001b[0m \u001b[1;33m(\u001b[0m\u001b[1;34m\"type\"\u001b[0m \u001b[1;32min\u001b[0m \u001b[0mentry\u001b[0m\u001b[1;33m)\u001b[0m \u001b[1;32mand\u001b[0m \u001b[1;33m(\u001b[0m\u001b[0mentry\u001b[0m\u001b[1;33m[\u001b[0m\u001b[1;34m\"type\"\u001b[0m\u001b[1;33m]\u001b[0m \u001b[1;33m==\u001b[0m \u001b[1;34m\"scattergl\"\u001b[0m\u001b[1;33m)\u001b[0m\u001b[1;33m:\u001b[0m\u001b[1;33m\u001b[0m\u001b[1;33m\u001b[0m\u001b[0m\n",
      "\u001b[1;32m~\\Anaconda4\\lib\\site-packages\\plotly\\tools.py\u001b[0m in \u001b[0;36mreturn_figure_from_figure_or_data\u001b[1;34m(figure_or_data, validate_figure)\u001b[0m\n\u001b[0;32m    543\u001b[0m     \u001b[1;32melse\u001b[0m\u001b[1;33m:\u001b[0m\u001b[1;33m\u001b[0m\u001b[1;33m\u001b[0m\u001b[0m\n\u001b[0;32m    544\u001b[0m         raise exceptions.PlotlyError(\n\u001b[1;32m--> 545\u001b[1;33m             \u001b[1;34m\"The `figure_or_data` positional \"\u001b[0m\u001b[1;33m\u001b[0m\u001b[1;33m\u001b[0m\u001b[0m\n\u001b[0m\u001b[0;32m    546\u001b[0m             \u001b[1;34m\"argument must be \"\u001b[0m\u001b[1;33m\u001b[0m\u001b[1;33m\u001b[0m\u001b[0m\n\u001b[0;32m    547\u001b[0m             \u001b[1;34m\"`dict`-like, `list`-like, or an instance of plotly.graph_objs.Figure\"\u001b[0m\u001b[1;33m\u001b[0m\u001b[1;33m\u001b[0m\u001b[0m\n",
      "\u001b[1;31mPlotlyError\u001b[0m: The `figure_or_data` positional argument must be `dict`-like, `list`-like, or an instance of plotly.graph_objs.Figure"
     ]
    }
   ],
   "source": [
    "py.iplot(top_50,filename='top_50_chart')\n",
    "plotly.graph_objs.Figure"
   ]
  },
  {
   "cell_type": "code",
   "execution_count": null,
   "id": "compact-millennium",
   "metadata": {},
   "outputs": [],
   "source": []
  }
 ],
 "metadata": {
  "kernelspec": {
   "display_name": "Python 3",
   "language": "python",
   "name": "python3"
  },
  "language_info": {
   "codemirror_mode": {
    "name": "ipython",
    "version": 3
   },
   "file_extension": ".py",
   "mimetype": "text/x-python",
   "name": "python",
   "nbconvert_exporter": "python",
   "pygments_lexer": "ipython3",
   "version": "3.7.1"
  }
 },
 "nbformat": 4,
 "nbformat_minor": 5
}
